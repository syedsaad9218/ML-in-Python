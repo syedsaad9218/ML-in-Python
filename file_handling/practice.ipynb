{
 "cells": [
  {
   "cell_type": "code",
   "execution_count": 1,
   "id": "96e3bbc0",
   "metadata": {},
   "outputs": [
    {
     "name": "stdout",
     "output_type": "stream",
     "text": [
      "Sadaath momo\n",
      "i am saad\n"
     ]
    }
   ],
   "source": [
    "with open('simple.txt', 'w') as file:\n",
    "    file.write(\"Sadaath momo\\n\")\n",
    "    file.write(\"i am saad\")\n",
    "\n",
    "with open(\"simple.txt\", \"r\") as file:\n",
    "    content = file.read()\n",
    "    print(content)"
   ]
  },
  {
   "cell_type": "code",
   "execution_count": 2,
   "id": "70435987",
   "metadata": {},
   "outputs": [
    {
     "name": "stdout",
     "output_type": "stream",
     "text": [
      "Data successfully written to output.txt\n"
     ]
    }
   ],
   "source": [
    "# Define the list of strings\n",
    "lines = [\"Hello, World!\", \"Python is awesome.\", \"File handling in Python.\", \"End of file.\"]\n",
    "\n",
    "# Open the file in write mode and write each string on a new line\n",
    "with open(\"output.txt\", \"w\") as file:\n",
    "    for line in lines:\n",
    "        file.write(line + \"\\n\")\n",
    "\n",
    "print(\"Data successfully written to output.txt\")"
   ]
  },
  {
   "cell_type": "code",
   "execution_count": 3,
   "id": "b3b3927a",
   "metadata": {},
   "outputs": [
    {
     "name": "stdout",
     "output_type": "stream",
     "text": [
      "i am good \n",
      "kya baat haiiiiiii \n",
      "make sure it in the destination\n"
     ]
    }
   ],
   "source": [
    "with open (\"source.txt\", \"w\") as file:\n",
    "    file.write(\"i am good \\n\")\n",
    "    file.write(\"kya baat haiiiiiii \\n\")\n",
    "    file.write(\"make sure it in the destination\")\n",
    "\n",
    "with open(\"source.txt\", \"r\") as file:\n",
    "    content1 = file.read()\n",
    "    print(content1)\n",
    "\n",
    "with open(\"destination.txt\", \"w\") as file:\n",
    "    file.write(content1)"
   ]
  },
  {
   "cell_type": "code",
   "execution_count": 4,
   "id": "afe5dd41",
   "metadata": {},
   "outputs": [
    {
     "name": "stdout",
     "output_type": "stream",
     "text": [
      "the number of words in documnet.txt is 5\n",
      "the number of char in documnet.txt is 21\n"
     ]
    }
   ],
   "source": [
    "with open (\"document.txt\", \"w\") as file:\n",
    "    file.write(\"hello and how are you\")\n",
    "\n",
    "with open(\"document.txt\", \"r\") as file:\n",
    "    content2 = file.read()\n",
    "\n",
    "count = 0\n",
    "for nums in content2:\n",
    "    count = count + 1\n",
    "\n",
    "words = content2.split()\n",
    "new_count = len(words)\n",
    "\n",
    "print(f\"the number of words in documnet.txt is {new_count}\")\n",
    "print(f\"the number of char in documnet.txt is {count}\")"
   ]
  },
  {
   "cell_type": "code",
   "execution_count": null,
   "id": "c7227548",
   "metadata": {},
   "outputs": [],
   "source": []
  }
 ],
 "metadata": {
  "kernelspec": {
   "display_name": "base",
   "language": "python",
   "name": "python3"
  },
  "language_info": {
   "codemirror_mode": {
    "name": "ipython",
    "version": 3
   },
   "file_extension": ".py",
   "mimetype": "text/x-python",
   "name": "python",
   "nbconvert_exporter": "python",
   "pygments_lexer": "ipython3",
   "version": "3.12.7"
  }
 },
 "nbformat": 4,
 "nbformat_minor": 5
}

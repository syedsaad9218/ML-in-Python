{
 "cells": [
  {
   "cell_type": "markdown",
   "id": "48c1b237",
   "metadata": {},
   "source": [
    "## multiThreading"
   ]
  },
  {
   "cell_type": "code",
   "execution_count": 3,
   "id": "0a2becdc",
   "metadata": {},
   "outputs": [
    {
     "name": "stdout",
     "output_type": "stream",
     "text": [
      "Numbers : 0\n",
      "letters : a\n",
      "Numbers : 1\n",
      "letters : b\n",
      "Numbers : 2\n",
      "letters : c\n",
      "Numbers : 3\n",
      "letters : d\n",
      "Numbers : 4\n",
      "letters : e\n",
      "Total time 5.008610248565674\n"
     ]
    }
   ],
   "source": [
    "import threading\n",
    "import time\n",
    "\n",
    "def print_numbers():\n",
    "    for i in range(5):\n",
    "        print(f\"Numbers : {i}\")\n",
    "        time.sleep(1)\n",
    "\n",
    "def print_letters():\n",
    "    for letter in 'abcde':\n",
    "        print(f\"letters : {letter}\")\n",
    "        time.sleep(1)\n",
    "\n",
    "thread1 = threading.Thread(target=print_numbers)\n",
    "thread2 = threading.Thread(target=print_letters)\n",
    "\n",
    "t = time.time()\n",
    "\n",
    "thread1.start()\n",
    "thread2.start()\n",
    "\n",
    "thread1.join()\n",
    "thread2.join()\n",
    "\n",
    "total_time = time.time() - t\n",
    "print(f\"Total time {total_time}\")"
   ]
  },
  {
   "cell_type": "markdown",
   "id": "75b2d75a",
   "metadata": {},
   "source": [
    "## multiProcessing"
   ]
  },
  {
   "cell_type": "code",
   "execution_count": 10,
   "id": "261a35f2",
   "metadata": {},
   "outputs": [
    {
     "name": "stdout",
     "output_type": "stream",
     "text": [
      "sqare : 0\n",
      "sqare : 1\n",
      "sqare : 4\n",
      "sqare : 9\n",
      "sqare : 16\n",
      "cube : 0\n",
      "cube : 1\n",
      "cube : 8\n",
      "cube : 27\n",
      "cube : 64\n",
      "Execution Time: 0.18887901306152344 seconds\n"
     ]
    }
   ],
   "source": [
    "import multiprocessing\n",
    "import time\n",
    "\n",
    "def square_numbers():\n",
    "    for i in range(5):\n",
    "        print(f\"sqare : {i*i}\")\n",
    "        time.sleep(1)\n",
    "\n",
    "def cube_numbers():\n",
    "    for i in range(5):\n",
    "        print(f'cube : {i*i*i}')\n",
    "        time.sleep(1)\n",
    "\n",
    "if __name__ == \"__main__\":\n",
    "    process1 = multiprocessing.Process(target=square_numbers())\n",
    "    process2 = multiprocessing.Process(target=cube_numbers())\n",
    "\n",
    "    t = time.time()\n",
    "\n",
    "    process1.start()\n",
    "    process2.start()\n",
    "\n",
    "    process1.join()\n",
    "    process2.join()\n",
    "\n",
    "    print(f\"Execution Time: {time.time() - t} seconds\")"
   ]
  },
  {
   "cell_type": "markdown",
   "id": "a27e6833",
   "metadata": {},
   "source": [
    "## Advance multiThreading"
   ]
  },
  {
   "cell_type": "code",
   "execution_count": 6,
   "id": "4e050c5d",
   "metadata": {},
   "outputs": [
    {
     "name": "stdout",
     "output_type": "stream",
     "text": [
      "Number : 1\n",
      "Number : 2\n",
      "Number : 3\n",
      "Number : 4\n",
      "Number : 5\n",
      "Number : 6\n",
      "Number : 7\n",
      "Number : 8\n",
      "Number : 9\n",
      "total time: 3.005296468734741\n"
     ]
    }
   ],
   "source": [
    "from concurrent.futures import ThreadPoolExecutor\n",
    "import time\n",
    "\n",
    "def print_numbers(number):\n",
    "    time.sleep(1)\n",
    "    return f\"Number : {number}\"\n",
    "\n",
    "start_time = time.time()\n",
    "\n",
    "number = [1,2,3,4,5,6,7,8,9]\n",
    "\n",
    "with ThreadPoolExecutor(max_workers=4) as executor:\n",
    "    result = executor.map(print_numbers, number)\n",
    "    for results in result:\n",
    "        print(results)\n",
    "\n",
    "end_time = time.time()\n",
    "print(f\"total time: {end_time - start_time}\")"
   ]
  },
  {
   "cell_type": "markdown",
   "id": "2a5d7b1a",
   "metadata": {},
   "source": [
    "## Advance multiProcessing\n",
    "create another .py file to run the code\n"
   ]
  },
  {
   "cell_type": "code",
   "execution_count": null,
   "id": "461b78c6",
   "metadata": {},
   "outputs": [],
   "source": [
    "from concurrent.futures import ProcessPoolExecutor\n",
    "import time\n",
    "\n",
    "def square_number(number):\n",
    "    time.sleep(1)\n",
    "    return f\"square : {number * number}\"\n",
    "\n",
    "if __name__ == \"__main__\":\n",
    "    start_time = time.time()\n",
    "\n",
    "    number = [1,2,3,4,5,6,7,8,9]\n",
    "\n",
    "    with ProcessPoolExecutor(max_workers=3) as executor:\n",
    "        results = executor.map(square_number, number)\n",
    "        for result in results:\n",
    "            print(result)\n",
    "\n",
    "    end_time = time.time()\n",
    "\n",
    "    print(f\"total time: {end_time - start_time:.2f} seconds\")"
   ]
  },
  {
   "cell_type": "code",
   "execution_count": null,
   "id": "963d26bc",
   "metadata": {},
   "outputs": [],
   "source": []
  }
 ],
 "metadata": {
  "kernelspec": {
   "display_name": "base",
   "language": "python",
   "name": "python3"
  },
  "language_info": {
   "codemirror_mode": {
    "name": "ipython",
    "version": 3
   },
   "file_extension": ".py",
   "mimetype": "text/x-python",
   "name": "python",
   "nbconvert_exporter": "python",
   "pygments_lexer": "ipython3",
   "version": "3.12.7"
  }
 },
 "nbformat": 4,
 "nbformat_minor": 5
}

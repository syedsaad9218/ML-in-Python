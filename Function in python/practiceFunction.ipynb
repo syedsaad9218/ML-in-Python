{
 "cells": [
  {
   "cell_type": "markdown",
   "id": "564ea5e5",
   "metadata": {},
   "source": [
    "1. Temperature Conversion"
   ]
  },
  {
   "cell_type": "code",
   "execution_count": 3,
   "id": "0f30eeee",
   "metadata": {},
   "outputs": [
    {
     "data": {
      "text/plain": [
       "'93.2°F'"
      ]
     },
     "execution_count": 3,
     "metadata": {},
     "output_type": "execute_result"
    }
   ],
   "source": [
    "# Main Function for Jupyter Notebook\n",
    "def temperature(temp = float(input()), unit = str(input())):\n",
    "    if unit == 'C':\n",
    "        return f\"{(temp*9/5)+32}°F\"\n",
    "    elif unit == 'F':\n",
    "        return f\"{(temp-32)*5/9}°C\"\n",
    "    return f\"{temp}, {unit}\"\n",
    "\n",
    "temperature()"
   ]
  },
  {
   "cell_type": "markdown",
   "id": "fd4b17e9",
   "metadata": {},
   "source": [
    "2. Password Strength checker"
   ]
  },
  {
   "cell_type": "code",
   "execution_count": 4,
   "id": "75949155",
   "metadata": {},
   "outputs": [
    {
     "name": "stdout",
     "output_type": "stream",
     "text": [
      "Weak Password.Strength is 4. Suggestions: \n",
      " Password must have one upper case\n"
     ]
    }
   ],
   "source": [
    "def password_strength_checker(password = input(\"Enter your Password\")):\n",
    "    strength = 0\n",
    "    remarks = []\n",
    "\n",
    "    # Check the length of the password\n",
    "    if len(password) >= 8:\n",
    "        strength+= 1\n",
    "    else:\n",
    "        remarks.append(\"Password must be of 8 characters\")\n",
    "    # check for the upper case \n",
    "    has_upper = any(char.isupper() for char in password)\n",
    "    if has_upper:\n",
    "        strength+= 1\n",
    "    else:\n",
    "        remarks.append(\"Password must have one upper case\")\n",
    "    \n",
    "    # Checks is their any lower case\n",
    "    has_lower = any(char.islower() for char in password)\n",
    "    if has_lower:\n",
    "        strength+= 1\n",
    "    else:\n",
    "        remarks.append(\"Password must have atleast one lowercase\")\n",
    "    # checks for the any digit\n",
    "    has_digit = any(char.isdigit for char in password)\n",
    "    if has_digit:\n",
    "        strength+= 1\n",
    "    else:\n",
    "        remarks.append(\"Must have atleast one digit\")\n",
    "    # Check for special characters\n",
    "    has_char = any(char in '!@#$%^&*<>?\":/.,;[] ~`' for char in password)\n",
    "    if has_char:\n",
    "        strength+= 1\n",
    "    else:\n",
    "        remarks.append(\"Must alteast have one character\")\n",
    "    if strength == 5:\n",
    "        return f'Strong Password. strength is {strength}'\n",
    "    elif 3>= strength <= 5:\n",
    "        return f'Moderate Password. Strenght is {strength}. Suggestions:\\n'+'\\n'.join(remarks)\n",
    "    else :\n",
    "        return f'Weak Password.Strength is {strength}. Suggestions: \\n '+ '\\n'.join(remarks)\n",
    "\n",
    "\n",
    "print(password_strength_checker())"
   ]
  },
  {
   "cell_type": "markdown",
   "id": "61c6ccf8",
   "metadata": {},
   "source": [
    "Palindrome"
   ]
  },
  {
   "cell_type": "code",
   "execution_count": 6,
   "id": "e81cef58",
   "metadata": {},
   "outputs": [
    {
     "name": "stdout",
     "output_type": "stream",
     "text": [
      "The string is palindrome\n"
     ]
    }
   ],
   "source": [
    "def is_it_palindrome(string):\n",
    "    # Convert the string to lowercase and remove non-alphanumeric characters\n",
    "    string = ''.join(filter(str.isalnum, string)).lower()\n",
    "    # Check if the string reads the same backward\n",
    "    return string == string[::-1]\n",
    "\n",
    "to_check = input()\n",
    "if is_it_palindrome(to_check):\n",
    "    print(\"The string is palindrome\")\n",
    "else:\n",
    "    print(\"The string is not palindrome\")"
   ]
  },
  {
   "cell_type": "markdown",
   "id": "1e7d5ddf",
   "metadata": {},
   "source": [
    "Factorial using Recursion"
   ]
  },
  {
   "cell_type": "code",
   "execution_count": 7,
   "id": "ebb24bb9",
   "metadata": {},
   "outputs": [
    {
     "data": {
      "text/plain": [
       "120"
      ]
     },
     "execution_count": 7,
     "metadata": {},
     "output_type": "execute_result"
    }
   ],
   "source": [
    "def factorial(n = int(input())):\n",
    "    # Base Case 1\n",
    "    if n== 0 or n == 1:\n",
    "        return 1\n",
    "    # Base Case 2\n",
    "    if n< 0:\n",
    "        return \"Factorial is not defeined for negative numbers\"\n",
    "    return n * factorial(n-1)\n",
    "\n",
    "factorial()"
   ]
  },
  {
   "cell_type": "code",
   "execution_count": 8,
   "id": "68999168",
   "metadata": {},
   "outputs": [
    {
     "name": "stdout",
     "output_type": "stream",
     "text": [
      "120\n"
     ]
    }
   ],
   "source": [
    "import math\n",
    "\n",
    "print(math.factorial(5))"
   ]
  },
  {
   "cell_type": "code",
   "execution_count": null,
   "id": "b64607be",
   "metadata": {},
   "outputs": [],
   "source": []
  }
 ],
 "metadata": {
  "kernelspec": {
   "display_name": "base",
   "language": "python",
   "name": "python3"
  },
  "language_info": {
   "codemirror_mode": {
    "name": "ipython",
    "version": 3
   },
   "file_extension": ".py",
   "mimetype": "text/x-python",
   "name": "python",
   "nbconvert_exporter": "python",
   "pygments_lexer": "ipython3",
   "version": "3.12.7"
  }
 },
 "nbformat": 4,
 "nbformat_minor": 5
}

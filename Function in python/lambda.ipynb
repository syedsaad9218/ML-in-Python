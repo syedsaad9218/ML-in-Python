{
 "cells": [
  {
   "cell_type": "code",
   "execution_count": null,
   "id": "ae57c8cc",
   "metadata": {},
   "outputs": [],
   "source": [
    "lambda argument : expresion"
   ]
  },
  {
   "cell_type": "code",
   "execution_count": 1,
   "id": "2c5c1177",
   "metadata": {},
   "outputs": [
    {
     "name": "stdout",
     "output_type": "stream",
     "text": [
      "11\n"
     ]
    }
   ],
   "source": [
    "addtion = lambda a,b : a+b\n",
    "print(addtion(5,6))"
   ]
  },
  {
   "cell_type": "code",
   "execution_count": 2,
   "id": "ede65d61",
   "metadata": {},
   "outputs": [
    {
     "name": "stdout",
     "output_type": "stream",
     "text": [
      "True\n"
     ]
    }
   ],
   "source": [
    "even = lambda num : num%2==0\n",
    "print(even(10))"
   ]
  },
  {
   "cell_type": "code",
   "execution_count": 4,
   "id": "42009a5a",
   "metadata": {},
   "outputs": [
    {
     "name": "stdout",
     "output_type": "stream",
     "text": [
      "[2, 4, 6]\n"
     ]
    }
   ],
   "source": [
    "numbers = [1,2,3,4,5,6,7]\n",
    "square =  list(filter(even, numbers))\n",
    "print(square)"
   ]
  },
  {
   "cell_type": "code",
   "execution_count": 7,
   "id": "09a8e9c6",
   "metadata": {},
   "outputs": [
    {
     "name": "stdout",
     "output_type": "stream",
     "text": [
      "2\n",
      "4\n",
      "6\n"
     ]
    }
   ],
   "source": [
    "for num in numbers: \n",
    "    if num%2==0 :\n",
    "        print(num)"
   ]
  },
  {
   "cell_type": "code",
   "execution_count": null,
   "id": "8f2bf233",
   "metadata": {},
   "outputs": [],
   "source": []
  }
 ],
 "metadata": {
  "kernelspec": {
   "display_name": "base",
   "language": "python",
   "name": "python3"
  },
  "language_info": {
   "codemirror_mode": {
    "name": "ipython",
    "version": 3
   },
   "file_extension": ".py",
   "mimetype": "text/x-python",
   "name": "python",
   "nbconvert_exporter": "python",
   "pygments_lexer": "ipython3",
   "version": "3.12.7"
  }
 },
 "nbformat": 4,
 "nbformat_minor": 5
}

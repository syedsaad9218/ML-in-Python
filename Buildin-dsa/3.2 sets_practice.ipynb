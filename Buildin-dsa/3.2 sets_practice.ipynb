{
 "cells": [
  {
   "cell_type": "markdown",
   "metadata": {},
   "source": [
    "Level 1"
   ]
  },
  {
   "cell_type": "markdown",
   "metadata": {},
   "source": [
    "1. Union and Intersection"
   ]
  },
  {
   "cell_type": "code",
   "execution_count": 2,
   "metadata": {},
   "outputs": [
    {
     "name": "stdout",
     "output_type": "stream",
     "text": [
      "{1, 2, 3, 4, 5, 6} and {3, 4, 5, 6}\n"
     ]
    }
   ],
   "source": [
    "set1 = {1, 2, 3, 4, 5}\n",
    "set2 = {3, 4, 5, 6}\n",
    "\n",
    "union12 = set1.union(set2)\n",
    "\n",
    "intersection12 = set2.intersection(set2)\n",
    "print(union12, \"and\", intersection12)"
   ]
  },
  {
   "cell_type": "markdown",
   "metadata": {},
   "source": [
    "2. Set difference and symmetric difference"
   ]
  },
  {
   "cell_type": "code",
   "execution_count": 8,
   "metadata": {},
   "outputs": [
    {
     "name": "stdout",
     "output_type": "stream",
     "text": [
      "{1, 2}\n",
      "{1, 2, 6}\n"
     ]
    }
   ],
   "source": [
    "diff = set1.difference(set2)\n",
    "sym_diff = set2.symmetric_difference(set1)\n",
    "print(diff)\n",
    "print(sym_diff)"
   ]
  },
  {
   "cell_type": "markdown",
   "metadata": {},
   "source": [
    "3. Super Set"
   ]
  },
  {
   "cell_type": "code",
   "execution_count": 3,
   "metadata": {},
   "outputs": [
    {
     "name": "stdout",
     "output_type": "stream",
     "text": [
      "True\n"
     ]
    }
   ],
   "source": [
    "new_set = {1, 2, 3, 4, 5, 6}\n",
    "print(new_set.issuperset(set1))"
   ]
  },
  {
   "cell_type": "markdown",
   "metadata": {},
   "source": [
    "4. Finding common elements  between two lists using set"
   ]
  },
  {
   "cell_type": "code",
   "execution_count": 5,
   "metadata": {},
   "outputs": [
    {
     "name": "stdout",
     "output_type": "stream",
     "text": [
      "[4, 5]\n"
     ]
    }
   ],
   "source": [
    "list1 = [1, 2, 3, 4, 5]\n",
    "list2 = [4, 5, 6, 7, 8]\n",
    "\n",
    "commmon_elements = list(set(list1).intersection(set(list2)))\n",
    "print(commmon_elements)"
   ]
  },
  {
   "cell_type": "markdown",
   "metadata": {},
   "source": [
    "Level 2"
   ]
  },
  {
   "cell_type": "markdown",
   "metadata": {},
   "source": [
    "Set Comprehension"
   ]
  },
  {
   "cell_type": "markdown",
   "metadata": {},
   "source": [
    "5. Create a set for even numbers from 1 to 20"
   ]
  },
  {
   "cell_type": "code",
   "execution_count": 7,
   "metadata": {},
   "outputs": [
    {
     "name": "stdout",
     "output_type": "stream",
     "text": [
      "{0, 2, 4, 6, 8, 10, 12, 14, 16, 18, 20}\n"
     ]
    }
   ],
   "source": [
    "even_numbers = {x for x in range(0,21) if x %2 == 0 }\n",
    "print(even_numbers)"
   ]
  },
  {
   "cell_type": "markdown",
   "metadata": {},
   "source": [
    "6. Removing Elements while iterating"
   ]
  },
  {
   "cell_type": "code",
   "execution_count": null,
   "metadata": {},
   "outputs": [
    {
     "name": "stdout",
     "output_type": "stream",
     "text": [
      "{1, 2, 3, 4, 5}\n"
     ]
    }
   ],
   "source": [
    "nums = {1, 2, 3, 4, 5, 6, 7, 8}\n",
    "\n",
    "n = len(nums)\n",
    "for i  in range(0,n+1):\n",
    "    if i > 5:\n",
    "        nums.discard(i)\n",
    "\n",
    "print(nums)"
   ]
  },
  {
   "cell_type": "markdown",
   "metadata": {},
   "source": [
    "7. Unique Words in a Sentence"
   ]
  },
  {
   "cell_type": "code",
   "execution_count": 13,
   "metadata": {},
   "outputs": [
    {
     "name": "stdout",
     "output_type": "stream",
     "text": [
      "{'fun', 'is', 'and', 'Python', 'powerfull'}\n"
     ]
    }
   ],
   "source": [
    "sentence = \"Python is fun and Python is powerfull\"\n",
    "\n",
    "# Returning unique words\n",
    "# unique_words = sentence.split()converting it to a set for unique\n",
    "#  values. split break down each word after that \n",
    "unique_words = set(sentence.split())\n",
    "print(unique_words)\n"
   ]
  },
  {
   "cell_type": "code",
   "execution_count": 1,
   "metadata": {},
   "outputs": [
    {
     "name": "stdout",
     "output_type": "stream",
     "text": [
      "{10, 20, 50}\n",
      "<class 'set'>\n"
     ]
    }
   ],
   "source": [
    "s = {10,20,50}\n",
    "print(s)\n",
    "print(type(s))"
   ]
  },
  {
   "cell_type": "code",
   "execution_count": 2,
   "metadata": {},
   "outputs": [
    {
     "name": "stdout",
     "output_type": "stream",
     "text": [
      "{'b', 'a', 'c'}\n",
      "{'b', 'a', 'c', 'd'}\n"
     ]
    }
   ],
   "source": [
    "s = set([\"a\", \"b\", \"c\"])\n",
    "print(s)\n",
    "\n",
    "#adding element to the set\n",
    "s.add(\"d\")\n",
    "print(s)"
   ]
  },
  {
   "cell_type": "code",
   "execution_count": 3,
   "metadata": {},
   "outputs": [
    {
     "name": "stdout",
     "output_type": "stream",
     "text": [
      "{'GeeksFor', 'Geeks'}\n"
     ]
    }
   ],
   "source": [
    "s = {\"Geeks\" \"For\", \"Geeks\"}\n",
    "print(s)\n",
    "\n"
   ]
  },
  {
   "cell_type": "code",
   "execution_count": 5,
   "metadata": {},
   "outputs": [
    {
     "data": {
      "text/plain": [
       "{10, 52.7, 'Geeks', True, 'for'}"
      ]
     },
     "execution_count": 5,
     "metadata": {},
     "output_type": "execute_result"
    }
   ],
   "source": [
    "s = {\"Geeks\", \"for\", 10, 52.7, True}\n",
    "s"
   ]
  },
  {
   "cell_type": "markdown",
   "metadata": {},
   "source": [
    "Frozen set"
   ]
  },
  {
   "cell_type": "code",
   "execution_count": 10,
   "metadata": {},
   "outputs": [
    {
     "name": "stdout",
     "output_type": "stream",
     "text": [
      "Normal set ['a', 'b', 'C']\n",
      "frozenset frozenset({'e', 'f', 'g'})\n"
     ]
    }
   ],
   "source": [
    "s = ([\"a\", \"b\", \"C\"])\n",
    "\n",
    "print(f\"Normal set {s}\")\n",
    "\n",
    "#frozen set\n",
    "fs = frozenset([\"e\", \"f\", \"g\"])\n",
    "print(f\"frozenset {fs}\")"
   ]
  },
  {
   "cell_type": "code",
   "execution_count": 12,
   "metadata": {},
   "outputs": [
    {
     "name": "stdout",
     "output_type": "stream",
     "text": [
      "prople {'Archi', 'idrish', 'jay'}\n",
      "after adding {'idrish', 1, 2, 3, 4, 5, 'Archi', 'Daxit', 'jay'}\n"
     ]
    }
   ],
   "source": [
    "people = {\"jay\", \"idrish\", \"Archi\"}\n",
    "\n",
    "print(f\"prople {people}\")\n",
    "\n",
    "people.add(\"Daxit\")\n",
    "\n",
    "for i in range(1,6):\n",
    "    people.add(i)\n",
    "\n",
    "print(f\"after adding {people}\")"
   ]
  },
  {
   "cell_type": "code",
   "execution_count": 14,
   "metadata": {},
   "outputs": [
    {
     "name": "stdout",
     "output_type": "stream",
     "text": [
      "union using union() funtion {'idrish', 1, 2, 3, 4, 5, 'Arjun', 'Karan', 'Archi', 'Daxit', 'jay'}\n",
      "union using | {'idrish', 1, 2, 3, 4, 5, 'Raju', 'Archi', 'Deepanshu', 'Daxit', 'jay'}\n"
     ]
    }
   ],
   "source": [
    "prople = {\"jay\", \"idrish\", \"Archi\"}\n",
    "vampires = {\"Karan\", \"Arjun\"}\n",
    "dracula = {\"Deepanshu\", \"Raju\"}\n",
    "\n",
    "population = people.union(vampires)\n",
    "print(f\"union using union() funtion {population}\")\n",
    "\n",
    "population = people|dracula\n",
    "print(f\"union using | {population}\")"
   ]
  },
  {
   "cell_type": "code",
   "execution_count": null,
   "metadata": {},
   "outputs": [],
   "source": []
  }
 ],
 "metadata": {
  "kernelspec": {
   "display_name": "base",
   "language": "python",
   "name": "python3"
  },
  "language_info": {
   "codemirror_mode": {
    "name": "ipython",
    "version": 3
   },
   "file_extension": ".py",
   "mimetype": "text/x-python",
   "name": "python",
   "nbconvert_exporter": "python",
   "pygments_lexer": "ipython3",
   "version": "3.12.7"
  }
 },
 "nbformat": 4,
 "nbformat_minor": 2
}

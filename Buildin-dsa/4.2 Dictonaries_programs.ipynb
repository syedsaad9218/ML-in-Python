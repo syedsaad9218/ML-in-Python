{
 "cells": [
  {
   "cell_type": "code",
   "execution_count": 1,
   "metadata": {},
   "outputs": [
    {
     "name": "stdout",
     "output_type": "stream",
     "text": [
      "dict_values([75, 90, 50])\n"
     ]
    }
   ],
   "source": [
    "scored = {\n",
    "    'Rayyan' : 75,\n",
    "    'saad' : 90,\n",
    "    'mustafa' : 50\n",
    "}\n",
    "print(scored.values())"
   ]
  },
  {
   "cell_type": "code",
   "execution_count": 5,
   "metadata": {},
   "outputs": [
    {
     "name": "stdout",
     "output_type": "stream",
     "text": [
      "{'Rayyan': 75, 'saad': 90, 'mustafa': 50, 'Junaid': 83}\n"
     ]
    }
   ],
   "source": [
    "scored['Junaid'] = 83\n",
    "print(scored)"
   ]
  },
  {
   "cell_type": "code",
   "execution_count": 7,
   "metadata": {},
   "outputs": [
    {
     "name": "stdout",
     "output_type": "stream",
     "text": [
      "None\n"
     ]
    }
   ],
   "source": [
    "print(scored.get('Mehvish'))"
   ]
  },
  {
   "cell_type": "code",
   "execution_count": 60,
   "metadata": {},
   "outputs": [],
   "source": [
    "expected_scores = {\n",
    "    'Zoha' : 75,\n",
    "    'Saboor' : 90,\n",
    "    'Rumaysa' : 50\n",
    "}"
   ]
  },
  {
   "cell_type": "code",
   "execution_count": 13,
   "metadata": {},
   "outputs": [
    {
     "name": "stdout",
     "output_type": "stream",
     "text": [
      "{'Rayyan': 75, 'saad': 90, 'mustafa': 50, 'Junaid': 83, 'Zoha': 75, 'Saboor': 90, 'Rumaysa': 50}\n"
     ]
    }
   ],
   "source": [
    "# Merging two dictonaries\n",
    "\n",
    "scored.update(expected_scores)\n",
    "print(scored)\n"
   ]
  },
  {
   "cell_type": "markdown",
   "metadata": {},
   "source": [
    "Write a program to count the frequency of each word in a given string using a dictionary"
   ]
  },
  {
   "cell_type": "code",
   "execution_count": null,
   "metadata": {},
   "outputs": [
    {
     "name": "stdout",
     "output_type": "stream",
     "text": [
      "this: 2\n",
      "is: 2\n",
      "a: 1\n",
      "book: 2\n",
      "very: 1\n",
      "good: 1\n"
     ]
    }
   ],
   "source": [
    "def count_word_frequency(input_string):\n",
    "    word_frequency = {}  # Initialize an empty dictionary\n",
    "\n",
    "    # Split the string into words\n",
    "    words = input_string.split()\n",
    "\n",
    "    # Iterate through each word\n",
    "    for word in words:\n",
    "        word = word.lower()  # Convert to lowercase for case-insensitive counting\n",
    "        if word in word_frequency:\n",
    "            word_frequency[word] += 1  # Increment count if word exists\n",
    "        else:\n",
    "            word_frequency[word] = 1  # Initialize count if word is old\n",
    "    return word_frequency\n",
    "\n",
    "# Example usage\n",
    "input_string = \"This is a book this book is very good\"\n",
    "frequency = count_word_frequency(input_string)\n",
    "\n",
    "for word, count in frequency.items():\n",
    "    print(f\"{word}: {count}\")\n"
   ]
  },
  {
   "cell_type": "markdown",
   "metadata": {},
   "source": [
    "Create a dictionary from two lists: one for keys and one for values"
   ]
  },
  {
   "cell_type": "code",
   "execution_count": 33,
   "metadata": {},
   "outputs": [
    {
     "name": "stdout",
     "output_type": "stream",
     "text": [
      "{'name': 'rayyan', 'age': 29, 'city': 'Hyderabad'}\n"
     ]
    }
   ],
   "source": [
    "list1 = [\"name\", 'age','city']\n",
    "list2 = ['rayyan', 29, 'Hyderabad']\n",
    "\n",
    "def twolists_to_dictionary(list1, list2):\n",
    "    empty_dict = dict()\n",
    "    for key, value in zip(list1, list2):\n",
    "        empty_dict[key] = value\n",
    "    return empty_dict\n",
    "    \n",
    "old_dictionary = twolists_to_dictionary(list1, list2)\n",
    "print(old_dictionary)"
   ]
  },
  {
   "cell_type": "markdown",
   "metadata": {},
   "source": [
    "Write a function that inverts a dictionary (swaps keys with values).\n"
   ]
  },
  {
   "cell_type": "code",
   "execution_count": 39,
   "metadata": {},
   "outputs": [
    {
     "name": "stdout",
     "output_type": "stream",
     "text": [
      "{'rayyan': 'name', 29: 'age', 'Hyderabad': 'city'}\n"
     ]
    }
   ],
   "source": [
    "def swap_key_and_values(old_dictionary):\n",
    "    new_dictionary ={}\n",
    "    for key,value in old_dictionary.items():\n",
    "        new_dictionary[value] = key\n",
    "    return new_dictionary\n",
    "\n",
    "print(swap_key_and_values(old_dictionary))"
   ]
  },
  {
   "cell_type": "markdown",
   "metadata": {},
   "source": [
    "Implement a function to find the key with the maximum value in a dictionary"
   ]
  },
  {
   "cell_type": "code",
   "execution_count": 63,
   "metadata": {},
   "outputs": [
    {
     "name": "stdout",
     "output_type": "stream",
     "text": [
      "['Saboor']\n",
      "['saad']\n"
     ]
    }
   ],
   "source": [
    "scored = {\n",
    "    'Rayyan' : 75,\n",
    "    'saad' : 90,\n",
    "    'mustafa' : 50\n",
    "}\n",
    "\n",
    "def key_with_max_value(input_dict):\n",
    "    for key,value in input_dict.items():\n",
    "        max_scored = max(input_dict.values())\n",
    "        max_key  = [key for key,value in input_dict.items() if value == max_scored ]\n",
    "    return max_key\n",
    "    \n",
    "print(key_with_max_value(expected_scores))\n",
    "print(key_with_max_value(scored))\n",
    "scored1 = {}"
   ]
  },
  {
   "cell_type": "markdown",
   "metadata": {},
   "source": [
    "Create a nested dictionary to represent a company's employee hierarchy, then write functions to access and update specific data"
   ]
  },
  {
   "cell_type": "code",
   "execution_count": 1,
   "metadata": {},
   "outputs": [],
   "source": [
    "\n",
    "company_hierarchy = {\n",
    "    \"CEO\": {\n",
    "        \"name\": \"Alice Johnson\",\n",
    "        \"departments\": {\n",
    "            \"Finance\": {\n",
    "                \"Manager\": \"Bob Smith\",\n",
    "                \"Employees\": {\n",
    "                    \"E101\": {\"name\": \"Charlie Brown\", \"role\": \"Accountant\"},\n",
    "                    \"E102\": {\"name\": \"Diana Prince\", \"role\": \"Financial Analyst\"}\n",
    "                }\n",
    "            },\n",
    "            \"HR\": {\n",
    "                \"Manager\": \"Eva Green\",\n",
    "                \"Employees\": {\n",
    "                    \"E201\": {\"name\": \"Frank Castle\", \"role\": \"Recruiter\"},\n",
    "                    \"E202\": {\"name\": \"Grace Harper\", \"role\": \"HR Specialist\"}\n",
    "                }\n",
    "            },\n",
    "            \"IT\": {\n",
    "                \"Manager\": \"Hank Pym\",\n",
    "                \"Employees\": {\n",
    "                    \"E301\": {\"name\": \"Ivy Walker\", \"role\": \"Software Engineer\"},\n",
    "                    \"E302\": {\"name\": \"Jack Black\", \"role\": \"System Administrator\"}\n",
    "                }\n",
    "            }\n",
    "        }\n",
    "    }\n",
    "}"
   ]
  },
  {
   "cell_type": "code",
   "execution_count": 10,
   "metadata": {},
   "outputs": [
    {
     "name": "stdout",
     "output_type": "stream",
     "text": [
      "{'name': 'Jack Black', 'role': 'System Administrator'}\n"
     ]
    }
   ],
   "source": [
    "def get_employee_data(hierarchary, employee_id):\n",
    "    for dept, dept_info in hierarchary['CEO']['departments'].items():\n",
    "        if 'Employees' in dept_info:\n",
    "            if employee_id in dept_info[\"Employees\"]:\n",
    "                return dept_info[\"Employees\"][employee_id]\n",
    "    return f\"Employee data not found {employee_id}\"\n",
    "            \n",
    "print(get_employee_data(company_hierarchy, 'E302'))"
   ]
  },
  {
   "cell_type": "code",
   "execution_count": null,
   "metadata": {},
   "outputs": [],
   "source": []
  }
 ],
 "metadata": {
  "kernelspec": {
   "display_name": "Python 3",
   "language": "python",
   "name": "python3"
  },
  "language_info": {
   "codemirror_mode": {
    "name": "ipython",
    "version": 3
   },
   "file_extension": ".py",
   "mimetype": "text/x-python",
   "name": "python",
   "nbconvert_exporter": "python",
   "pygments_lexer": "ipython3",
   "version": "3.13.0"
  }
 },
 "nbformat": 4,
 "nbformat_minor": 2
}

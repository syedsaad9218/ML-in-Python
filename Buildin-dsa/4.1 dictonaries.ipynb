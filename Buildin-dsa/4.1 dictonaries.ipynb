{
 "cells": [
  {
   "cell_type": "markdown",
   "metadata": {},
   "source": [
    "Level 1"
   ]
  },
  {
   "cell_type": "code",
   "execution_count": 1,
   "metadata": {},
   "outputs": [
    {
     "data": {
      "text/plain": [
       "dict"
      ]
     },
     "execution_count": 1,
     "metadata": {},
     "output_type": "execute_result"
    }
   ],
   "source": [
    "empty_dict = {}\n",
    "type(empty_dict)"
   ]
  },
  {
   "cell_type": "markdown",
   "metadata": {},
   "source": [
    "Dictionaries"
   ]
  },
  {
   "cell_type": "markdown",
   "metadata": {},
   "source": [
    "1. A dictionary is unordered, mutable collection of key_value pairs\n",
    "2. Key must be unique and immutable\n",
    "3. Values can be of any data type."
   ]
  },
  {
   "cell_type": "code",
   "execution_count": 2,
   "metadata": {},
   "outputs": [
    {
     "name": "stdout",
     "output_type": "stream",
     "text": [
      "{'name': 'Rayyan', 'age': 20, 'City': 'Hyderabad'}\n"
     ]
    }
   ],
   "source": [
    "my_details = {\"name\" :\"Rayyan\", \"age\": 20, \"City\": \"Hyderabad\"}\n",
    "print(my_details)"
   ]
  },
  {
   "cell_type": "markdown",
   "metadata": {},
   "source": [
    "Accessing Dictonarie values:"
   ]
  },
  {
   "cell_type": "code",
   "execution_count": 2,
   "metadata": {},
   "outputs": [
    {
     "name": "stdout",
     "output_type": "stream",
     "text": [
      "Rayan\n"
     ]
    }
   ],
   "source": [
    "# Can be done by key values\n",
    "print(my_details['name'])"
   ]
  },
  {
   "cell_type": "markdown",
   "metadata": {},
   "source": [
    "Adding/Updating them"
   ]
  },
  {
   "cell_type": "markdown",
   "metadata": {},
   "source": []
  },
  {
   "cell_type": "code",
   "execution_count": 18,
   "metadata": {},
   "outputs": [
    {
     "name": "stdout",
     "output_type": "stream",
     "text": [
      "{'name': 'Rayyan', 'age': 20.5, 'City': 'Hyderabad', 'profession': 'Engineer'}\n"
     ]
    }
   ],
   "source": [
    "# If the key exists its update the value\n",
    "my_details['age'] = 20.5\n",
    "\n",
    "# If not exists adds a key \n",
    "\n",
    "my_details['profession'] = 'Engineer'\n",
    "\n",
    "print(my_details)"
   ]
  },
  {
   "cell_type": "markdown",
   "metadata": {},
   "source": [
    "Iterating through the list"
   ]
  },
  {
   "cell_type": "code",
   "execution_count": 3,
   "metadata": {},
   "outputs": [
    {
     "name": "stdout",
     "output_type": "stream",
     "text": [
      "name:Rayyan\n",
      "age:20\n",
      "City:Hyderabad\n"
     ]
    }
   ],
   "source": [
    "for key,value in my_details.items():\n",
    "    print(f\"{key}:{value}\")"
   ]
  },
  {
   "cell_type": "markdown",
   "metadata": {},
   "source": [
    "Dictionary methods"
   ]
  },
  {
   "cell_type": "code",
   "execution_count": null,
   "metadata": {},
   "outputs": [
    {
     "name": "stdout",
     "output_type": "stream",
     "text": [
      "dict_keys(['name', 'age', 'City', 'profession'])\n"
     ]
    }
   ],
   "source": [
    "# Can be used to retreive different key \n",
    "print(my_details.keys()) "
   ]
  },
  {
   "cell_type": "code",
   "execution_count": 13,
   "metadata": {},
   "outputs": [
    {
     "name": "stdout",
     "output_type": "stream",
     "text": [
      "dict_values(['Rayyan', 20.5, 'Hyderabad', 'Engineer'])\n"
     ]
    }
   ],
   "source": [
    "# Retrieve diff values\n",
    "print(my_details.values())\n"
   ]
  },
  {
   "cell_type": "code",
   "execution_count": 14,
   "metadata": {},
   "outputs": [
    {
     "name": "stdout",
     "output_type": "stream",
     "text": [
      "dict_items([('name', 'Rayyan'), ('age', 20.5), ('City', 'Hyderabad'), ('profession', 'Engineer')])\n"
     ]
    }
   ],
   "source": [
    "# Items in the list (Returns both key and values)\n",
    "print(my_details.items())\n"
   ]
  },
  {
   "cell_type": "code",
   "execution_count": 23,
   "metadata": {},
   "outputs": [
    {
     "name": "stdout",
     "output_type": "stream",
     "text": [
      "Rayyan\n"
     ]
    }
   ],
   "source": [
    "# Returns the value of the key , if not exist returns None\n",
    "print(my_details.get(\"name\"))\n"
   ]
  },
  {
   "cell_type": "markdown",
   "metadata": {},
   "source": [
    "Shallow Copy or update"
   ]
  },
  {
   "cell_type": "code",
   "execution_count": 30,
   "metadata": {},
   "outputs": [
    {
     "name": "stdout",
     "output_type": "stream",
     "text": [
      "{'college': 'Shadan', 'field': 'Machine learning', 'name': 'Rayyan', 'age': 20.5, 'City': 'Hyderabad', 'profession': 'Engineer'}\n"
     ]
    }
   ],
   "source": [
    "new_data = {\"college\":'Shadan', 'field': 'Machine learning'}\n",
    "new_data.update(my_details)\n",
    "\n",
    "print(new_data)"
   ]
  },
  {
   "cell_type": "code",
   "execution_count": 29,
   "metadata": {},
   "outputs": [
    {
     "name": "stdout",
     "output_type": "stream",
     "text": [
      "{'name': 'Rayyan', 'age': 20.5, 'City': 'Hyderabad', 'profession': 'Engineer'}\n"
     ]
    }
   ],
   "source": [
    "print(my_details)"
   ]
  },
  {
   "cell_type": "code",
   "execution_count": 37,
   "metadata": {},
   "outputs": [
    {
     "name": "stdout",
     "output_type": "stream",
     "text": [
      "{}\n",
      "{'Waste': None}\n"
     ]
    }
   ],
   "source": [
    "# Shallow Copy \n",
    "\n",
    "new_data1 = my_details.copy()\n",
    "new_data1['Waste'] = None\n",
    "print(my_details)\n",
    "print(new_data1)\n",
    "\n",
    "# .copy.deepcopy() also deeply copy nested structres"
   ]
  },
  {
   "cell_type": "code",
   "execution_count": null,
   "metadata": {},
   "outputs": [
    {
     "name": "stdout",
     "output_type": "stream",
     "text": [
      "{}\n"
     ]
    }
   ],
   "source": [
    "# Makes the list empty\n",
    "my_details.clear()\n",
    "print(my_details)"
   ]
  },
  {
   "cell_type": "markdown",
   "metadata": {},
   "source": [
    "Nested Dictonaries"
   ]
  },
  {
   "cell_type": "code",
   "execution_count": 58,
   "metadata": {},
   "outputs": [
    {
     "data": {
      "text/plain": [
       "{101: {'name': 'Alice', 'age': 20, 'major': 'Computer Science'},\n",
       " 102: {'name': 'Bob', 'age': 22, 'major': 'Mathematics'},\n",
       " 103: {'name': 'Charlie', 'age': 21, 'major': 'Physics'}}"
      ]
     },
     "execution_count": 58,
     "metadata": {},
     "output_type": "execute_result"
    }
   ],
   "source": [
    "students = {\n",
    "    101: {\"name\": \"Alice\", \"age\": 20, \"major\": \"Computer Science\"},\n",
    "    102: {\"name\": \"Bob\", \"age\": 22, \"major\": \"Mathematics\"},\n",
    "    103: {\"name\": \"Charlie\", \"age\": 21, \"major\": \"Physics\"},\n",
    "}\n",
    "students"
   ]
  },
  {
   "cell_type": "code",
   "execution_count": 59,
   "metadata": {},
   "outputs": [
    {
     "name": "stdout",
     "output_type": "stream",
     "text": [
      "Alice\n"
     ]
    }
   ],
   "source": [
    "print(students[101]['name'])"
   ]
  },
  {
   "cell_type": "markdown",
   "metadata": {},
   "source": [
    "Iterating over the nested Dictonaries"
   ]
  },
  {
   "cell_type": "code",
   "execution_count": null,
   "metadata": {},
   "outputs": [
    {
     "name": "stdout",
     "output_type": "stream",
     "text": [
      "101:{'name': 'Alice', 'age': 20, 'major': 'Computer Science'}\n",
      "name:Alice\n",
      "age:20\n",
      "major:Computer Science\n",
      "102:{'name': 'Bob', 'age': 22, 'major': 'Mathematics'}\n",
      "name:Bob\n",
      "age:22\n",
      "major:Mathematics\n",
      "103:{'name': 'Charlie', 'age': 21, 'major': 'Physics'}\n",
      "name:Charlie\n",
      "age:21\n",
      "major:Physics\n"
     ]
    }
   ],
   "source": [
    "for students,students_info in students.items():\n",
    "    print(f\"{students}:{students_info}\")\n",
    "    for key, value in students_info.items():\n",
    "        print(f\"{key}:{value}\")"
   ]
  },
  {
   "cell_type": "code",
   "execution_count": null,
   "metadata": {},
   "outputs": [
    {
     "name": "stdout",
     "output_type": "stream",
     "text": [
      "101:{'name': 'Alice', 'age': 20, 'major': 'Computer Science'}\n",
      "name : Alice\n",
      "age : 20\n",
      "major : Computer Science\n",
      "102:{'name': 'Bob', 'age': 22, 'major': 'Mathematics'}\n",
      "name : Bob\n",
      "age : 22\n",
      "major : Mathematics\n",
      "103:{'name': 'Charlie', 'age': 21, 'major': 'Physics'}\n",
      "name : Charlie\n",
      "age : 21\n",
      "major : Physics\n"
     ]
    }
   ],
   "source": [
    "# # students = {\n",
    "# #     101: {\"name\": \"Alice\", \"age\": 20, \"major\": \"Computer Science\"},\n",
    "# #     102: {\"name\": \"Bob\", \"age\": 22, \"major\": \"Mathematics\"},\n",
    "# #     103: {\"name\": \"Charlie\", \"age\": 21, \"major\": \"Physics\"},\n",
    "# # }\n",
    "\n",
    "# # for students_id, student_info in students.items() :\n",
    "# #     print(f\"{students_id}:{student_info}\")\n",
    "# #     for key, value in student_info.items() :\n",
    "#         print(f\"{key} : {value}\")\n",
    "\n",
    "# saad ka code hai yeh \n",
    "# main sikhaya"
   ]
  },
  {
   "cell_type": "code",
   "execution_count": null,
   "metadata": {},
   "outputs": [],
   "source": []
  }
 ],
 "metadata": {
  "kernelspec": {
   "display_name": "Python 3",
   "language": "python",
   "name": "python3"
  },
  "language_info": {
   "codemirror_mode": {
    "name": "ipython",
    "version": 3
   },
   "file_extension": ".py",
   "mimetype": "text/x-python",
   "name": "python",
   "nbconvert_exporter": "python",
   "pygments_lexer": "ipython3",
   "version": "3.13.0"
  }
 },
 "nbformat": 4,
 "nbformat_minor": 2
}

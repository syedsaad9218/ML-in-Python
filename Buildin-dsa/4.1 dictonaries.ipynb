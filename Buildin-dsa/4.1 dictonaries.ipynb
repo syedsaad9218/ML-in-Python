{
 "cells": [
  {
   "cell_type": "markdown",
   "metadata": {},
   "source": [
    "Level 1"
   ]
  },
  {
   "cell_type": "code",
   "execution_count": 1,
   "metadata": {},
   "outputs": [
    {
     "data": {
      "text/plain": [
       "dict"
      ]
     },
     "execution_count": 1,
     "metadata": {},
     "output_type": "execute_result"
    }
   ],
   "source": [
    "empty_dict = {}\n",
    "type(empty_dict)"
   ]
  },
  {
   "cell_type": "markdown",
   "metadata": {},
   "source": [
    "Dictionaries"
   ]
  },
  {
   "cell_type": "markdown",
   "metadata": {},
   "source": [
    "1. A dictionary is unordered, mutable collection of key_value pairs\n",
    "2. Key must be unique and immutable\n",
    "3. Values can be of any data type."
   ]
  },
  {
   "cell_type": "code",
   "execution_count": 2,
   "metadata": {},
   "outputs": [
    {
     "name": "stdout",
     "output_type": "stream",
     "text": [
      "{'name': 'Rayyan', 'age': 20, 'City': 'Hyderabad'}\n"
     ]
    }
   ],
   "source": [
    "my_details = {\"name\" :\"Rayyan\", \"age\": 20, \"City\": \"Hyderabad\"}\n",
    "print(my_details)"
   ]
  },
  {
   "cell_type": "markdown",
   "metadata": {},
   "source": [
    "Accessing Dictonarie values:"
   ]
  },
  {
   "cell_type": "code",
   "execution_count": 2,
   "metadata": {},
   "outputs": [
    {
     "name": "stdout",
     "output_type": "stream",
     "text": [
      "Rayan\n"
     ]
    }
   ],
   "source": [
    "# Can be done by key values\n",
    "print(my_details['name'])"
   ]
  },
  {
   "cell_type": "markdown",
   "metadata": {},
   "source": [
    "Adding/Updating them"
   ]
  },
  {
   "cell_type": "markdown",
   "metadata": {},
   "source": []
  },
  {
   "cell_type": "code",
   "execution_count": 18,
   "metadata": {},
   "outputs": [
    {
     "name": "stdout",
     "output_type": "stream",
     "text": [
      "{'name': 'Rayyan', 'age': 20.5, 'City': 'Hyderabad', 'profession': 'Engineer'}\n"
     ]
    }
   ],
   "source": [
    "# If the key exists its update the value\n",
    "my_details['age'] = 20.5\n",
    "\n",
    "# If not exists adds a key \n",
    "\n",
    "my_details['profession'] = 'Engineer'\n",
    "\n",
    "print(my_details)"
   ]
  },
  {
   "cell_type": "markdown",
   "metadata": {},
   "source": [
    "Iterating through the list"
   ]
  },
  {
   "cell_type": "code",
   "execution_count": 3,
   "metadata": {},
   "outputs": [
    {
     "name": "stdout",
     "output_type": "stream",
     "text": [
      "name:Rayyan\n",
      "age:20\n",
      "City:Hyderabad\n"
     ]
    }
   ],
   "source": [
    "for key,value in my_details.items():\n",
    "    print(f\"{key}:{value}\")"
   ]
  },
  {
   "cell_type": "markdown",
   "metadata": {},
   "source": [
    "Dictionary methods"
   ]
  },
  {
   "cell_type": "code",
   "execution_count": null,
   "metadata": {},
   "outputs": [
    {
     "name": "stdout",
     "output_type": "stream",
     "text": [
      "dict_keys(['name', 'age', 'City', 'profession'])\n"
     ]
    }
   ],
   "source": [
    "# Can be used to retreive different key \n",
    "print(my_details.keys()) "
   ]
  },
  {
   "cell_type": "code",
   "execution_count": 13,
   "metadata": {},
   "outputs": [
    {
     "name": "stdout",
     "output_type": "stream",
     "text": [
      "dict_values(['Rayyan', 20.5, 'Hyderabad', 'Engineer'])\n"
     ]
    }
   ],
   "source": [
    "# Retrieve diff values\n",
    "print(my_details.values())\n"
   ]
  },
  {
   "cell_type": "code",
   "execution_count": 14,
   "metadata": {},
   "outputs": [
    {
     "name": "stdout",
     "output_type": "stream",
     "text": [
      "dict_items([('name', 'Rayyan'), ('age', 20.5), ('City', 'Hyderabad'), ('profession', 'Engineer')])\n"
     ]
    }
   ],
   "source": [
    "# Items in the list (Returns both key and values)\n",
    "print(my_details.items())\n"
   ]
  },
  {
   "cell_type": "code",
   "execution_count": 23,
   "metadata": {},
   "outputs": [
    {
     "name": "stdout",
     "output_type": "stream",
     "text": [
      "Rayyan\n"
     ]
    }
   ],
   "source": [
    "# Returns the value of the key , if not exist returns None\n",
    "print(my_details.get(\"name\"))\n"
   ]
  },
  {
   "cell_type": "markdown",
   "metadata": {},
   "source": [
    "Shallow Copy or update"
   ]
  },
  {
   "cell_type": "code",
   "execution_count": 30,
   "metadata": {},
   "outputs": [
    {
     "name": "stdout",
     "output_type": "stream",
     "text": [
      "{'college': 'Shadan', 'field': 'Machine learning', 'name': 'Rayyan', 'age': 20.5, 'City': 'Hyderabad', 'profession': 'Engineer'}\n"
     ]
    }
   ],
   "source": [
    "new_data = {\"college\":'Shadan', 'field': 'Machine learning'}\n",
    "new_data.update(my_details)\n",
    "\n",
    "print(new_data)"
   ]
  },
  {
   "cell_type": "code",
   "execution_count": 29,
   "metadata": {},
   "outputs": [
    {
     "name": "stdout",
     "output_type": "stream",
     "text": [
      "{'name': 'Rayyan', 'age': 20.5, 'City': 'Hyderabad', 'profession': 'Engineer'}\n"
     ]
    }
   ],
   "source": [
    "print(my_details)"
   ]
  },
  {
   "cell_type": "code",
   "execution_count": 37,
   "metadata": {},
   "outputs": [
    {
     "name": "stdout",
     "output_type": "stream",
     "text": [
      "{}\n",
      "{'Waste': None}\n"
     ]
    }
   ],
   "source": [
    "# Shallow Copy \n",
    "\n",
    "new_data1 = my_details.copy()\n",
    "new_data1['Waste'] = None\n",
    "print(my_details)\n",
    "print(new_data1)\n",
    "\n",
    "# .copy.deepcopy() also deeply copy nested structres"
   ]
  },
  {
   "cell_type": "code",
   "execution_count": null,
   "metadata": {},
   "outputs": [
    {
     "name": "stdout",
     "output_type": "stream",
     "text": [
      "{}\n"
     ]
    }
   ],
   "source": [
    "# Makes the list empty\n",
    "my_details.clear()\n",
    "print(my_details)"
   ]
  },
  {
   "cell_type": "markdown",
   "metadata": {},
   "source": [
    "Nested Dictonaries"
   ]
  },
  {
   "cell_type": "code",
   "execution_count": 58,
   "metadata": {},
   "outputs": [
    {
     "data": {
      "text/plain": [
       "{101: {'name': 'Alice', 'age': 20, 'major': 'Computer Science'},\n",
       " 102: {'name': 'Bob', 'age': 22, 'major': 'Mathematics'},\n",
       " 103: {'name': 'Charlie', 'age': 21, 'major': 'Physics'}}"
      ]
     },
     "execution_count": 58,
     "metadata": {},
     "output_type": "execute_result"
    }
   ],
   "source": [
    "students = {\n",
    "    101: {\"name\": \"Alice\", \"age\": 20, \"major\": \"Computer Science\"},\n",
    "    102: {\"name\": \"Bob\", \"age\": 22, \"major\": \"Mathematics\"},\n",
    "    103: {\"name\": \"Charlie\", \"age\": 21, \"major\": \"Physics\"},\n",
    "}\n",
    "students"
   ]
  },
  {
   "cell_type": "code",
   "execution_count": 59,
   "metadata": {},
   "outputs": [
    {
     "name": "stdout",
     "output_type": "stream",
     "text": [
      "Alice\n"
     ]
    }
   ],
   "source": [
    "print(students[101]['name'])"
   ]
  },
  {
   "cell_type": "markdown",
   "metadata": {},
   "source": [
    "Iterating over the nested Dictonaries"
   ]
  },
  {
   "cell_type": "code",
   "execution_count": null,
   "metadata": {},
   "outputs": [
    {
     "name": "stdout",
     "output_type": "stream",
     "text": [
      "101:{'name': 'Alice', 'age': 20, 'major': 'Computer Science'}\n",
      "name:Alice\n",
      "age:20\n",
      "major:Computer Science\n",
      "102:{'name': 'Bob', 'age': 22, 'major': 'Mathematics'}\n",
      "name:Bob\n",
      "age:22\n",
      "major:Mathematics\n",
      "103:{'name': 'Charlie', 'age': 21, 'major': 'Physics'}\n",
      "name:Charlie\n",
      "age:21\n",
      "major:Physics\n"
     ]
    }
   ],
   "source": [
    "for students,students_info in students.items():\n",
    "    print(f\"{students}:{students_info}\")\n",
    "    for key, value in students_info.items():\n",
    "        print(f\"{key}:{value}\")"
   ]
  },
  {
   "cell_type": "code",
   "execution_count": null,
   "metadata": {},
   "outputs": [
    {
     "name": "stdout",
     "output_type": "stream",
     "text": [
      "101:{'name': 'Alice', 'age': 20, 'major': 'Computer Science'}\n",
      "name : Alice\n",
      "age : 20\n",
      "major : Computer Science\n",
      "102:{'name': 'Bob', 'age': 22, 'major': 'Mathematics'}\n",
      "name : Bob\n",
      "age : 22\n",
      "major : Mathematics\n",
      "103:{'name': 'Charlie', 'age': 21, 'major': 'Physics'}\n",
      "name : Charlie\n",
      "age : 21\n",
      "major : Physics\n"
     ]
    }
   ],
   "source": [
    "# # students = {\n",
    "# #     101: {\"name\": \"Alice\", \"age\": 20, \"major\": \"Computer Science\"},\n",
    "# #     102: {\"name\": \"Bob\", \"age\": 22, \"major\": \"Mathematics\"},\n",
    "# #     103: {\"name\": \"Charlie\", \"age\": 21, \"major\": \"Physics\"},\n",
    "# # }\n",
    "\n",
    "# # for students_id, student_info in students.items() :\n",
    "# #     print(f\"{students_id}:{student_info}\")\n",
    "# #     for key, value in student_info.items() :\n",
    "#         print(f\"{key} : {value}\")\n",
    "\n",
    "# saad ka code hai yeh \n",
    "# main sikhaya"
   ]
  },
  {
   "cell_type": "code",
   "execution_count": 1,
   "metadata": {},
   "outputs": [
    {
     "data": {
      "text/plain": [
       "{1: 'Geeks', 2: 'For', 3: 'Geeks'}"
      ]
     },
     "execution_count": 1,
     "metadata": {},
     "output_type": "execute_result"
    }
   ],
   "source": [
    "d = {1: 'Geeks', 2: 'For', 3: 'Geeks'}\n",
    "d"
   ]
  },
  {
   "cell_type": "markdown",
   "metadata": {},
   "source": [
    "Creating a dictionary"
   ]
  },
  {
   "cell_type": "code",
   "execution_count": 3,
   "metadata": {},
   "outputs": [
    {
     "name": "stdout",
     "output_type": "stream",
     "text": [
      "{1: 'Geeks', 2: 'For', 3: 'Geeks'}\n",
      "{'a': 'Geeks', 'b': 'For', 'c': 'Geeks'}\n"
     ]
    }
   ],
   "source": [
    "d1 = {1: 'Geeks', 2: 'For', 3: 'Geeks'}\n",
    "print(d1)\n",
    "\n",
    "#creating a dictinary\n",
    "\n",
    "d2 = dict(a = \"Geeks\", b = \"For\", c = \"Geeks\")\n",
    "print(d2)"
   ]
  },
  {
   "cell_type": "markdown",
   "metadata": {},
   "source": [
    "Accessing Dictinary items"
   ]
  },
  {
   "cell_type": "code",
   "execution_count": 4,
   "metadata": {},
   "outputs": [
    {
     "name": "stdout",
     "output_type": "stream",
     "text": [
      "prajjwal\n",
      "prajjwal\n"
     ]
    }
   ],
   "source": [
    "d = {\"name\": \"prajjwal\", 1: \"python\", (1,2): [1,2,4]}\n",
    "\n",
    "#accessing using key\n",
    "\n",
    "print(d[\"name\"])\n",
    "\n",
    "#accessing using get()\n",
    "\n",
    "print(d.get(\"name\"))"
   ]
  },
  {
   "cell_type": "markdown",
   "metadata": {},
   "source": [
    "Adding a value"
   ]
  },
  {
   "cell_type": "code",
   "execution_count": 5,
   "metadata": {},
   "outputs": [
    {
     "name": "stdout",
     "output_type": "stream",
     "text": [
      "{1: 'Python dict', 2: 'For', 3: 'Geeks', 'age': 22}\n"
     ]
    }
   ],
   "source": [
    "d = {1: \"geeks\", 2: \"For\", 3: \"Geeks\"}\n",
    "\n",
    "d[\"age\"] = 22\n",
    "\n",
    "#updating an exsting value\n",
    "\n",
    "d[1] = \"Python dict\"\n",
    "\n",
    "print(d)"
   ]
  },
  {
   "cell_type": "code",
   "execution_count": 7,
   "metadata": {},
   "outputs": [
    {
     "name": "stdout",
     "output_type": "stream",
     "text": [
      "{1: 'Geeks', 2: 'For', 3: 'Geeks'}\n",
      "Geeks\n",
      "key: 3, Value: Geeks\n",
      "{}\n"
     ]
    }
   ],
   "source": [
    "d = {1: \"Geeks\", 2: \"For\", 3: \"Geeks\", \"age\": 22}\n",
    "\n",
    "#Using del to remove an item\n",
    "\n",
    "del d[\"age\"]\n",
    "print(d)\n",
    "\n",
    "#using pop() to remove an item and return the value\n",
    "\n",
    "val = d.pop(1)\n",
    "print(val)\n",
    "\n",
    "#using popitem() to remove an item and return the last key value pair\n",
    "\n",
    "key, val = d.popitem()\n",
    "print(f\"key: {key}, Value: {val}\")\n",
    "\n",
    "#clear the items from the dict\n",
    "\n",
    "d.clear()\n",
    "print(d)"
   ]
  },
  {
   "cell_type": "code",
   "execution_count": 1,
   "metadata": {},
   "outputs": [
    {
     "name": "stdout",
     "output_type": "stream",
     "text": [
      "1\n",
      "2\n",
      "age\n",
      "Geeks\n",
      "For\n",
      "22\n",
      "{1: 'Geeks', 2: 'For', 'age': 22}\n",
      "{4: 'Hello', 2: 'For', 'age': 22}\n",
      "Geeks\n"
     ]
    }
   ],
   "source": [
    "d = {1: \"Geeks\", 2: \"For\", \"age\": 22}\n",
    "\n",
    "for key in d:\n",
    "    print(key)\n",
    "\n",
    "for value in d.values():\n",
    "    print(value)\n",
    "\n",
    "update_d = {}\n",
    "for key, value in d.items():\n",
    "    if key == 1:\n",
    "        key = 4\n",
    "    if value == \"Geeks\":\n",
    "        value = \"Hello\"\n",
    "    update_d[key] = value\n",
    "\n",
    "print(d)\n",
    "print(update_d)\n",
    "print(d.pop(1))"
   ]
  },
  {
   "cell_type": "code",
   "execution_count": 13,
   "metadata": {},
   "outputs": [
    {
     "name": "stdout",
     "output_type": "stream",
     "text": [
      "original {'name': 'Alice', 'marks': {'maths': 100, 'science': 95}}\n",
      "shallow {'name': 'Alice', 'marks': {'maths': 100, 'science': 95}}\n"
     ]
    }
   ],
   "source": [
    "import copy\n",
    "\n",
    "original = {\"name\": \"Alice\", \"marks\": {\"maths\": 90, \"science\": 95}}\n",
    "\n",
    "shallow = copy.copy(original)\n",
    "\n",
    "shallow[\"marks\"][\"maths\"] = 100\n",
    "\n",
    "print(f\"original {original}\")\n",
    "print(f\"shallow {shallow}\")"
   ]
  },
  {
   "cell_type": "code",
   "execution_count": 21,
   "metadata": {},
   "outputs": [
    {
     "name": "stdout",
     "output_type": "stream",
     "text": [
      "()\n",
      "('geeks', 'For')\n",
      "(1, 2, 3, 4, 5, 6, 7, 8, 9, 10)\n",
      "('G', 'e', 'e', 'k', 's')\n"
     ]
    }
   ],
   "source": [
    "tup = ()\n",
    "print(tup)\n",
    "\n",
    "tup = ('geeks', 'For')\n",
    "print(tup)\n",
    "\n",
    "#using list\n",
    "li = [x for x in range(1, 11)]\n",
    "print(tuple(li))\n",
    "\n",
    "tup = tuple(\"Geeks\")\n",
    "print(tup)"
   ]
  },
  {
   "cell_type": "code",
   "execution_count": 25,
   "metadata": {},
   "outputs": [
    {
     "name": "stdout",
     "output_type": "stream",
     "text": [
      "(5, 'welcome', 7, 'Geeks')\n",
      "((0, 1, 2, 3, 4), ('python', 'geek'))\n",
      "('geeks', 'geeks', 'geeks')\n",
      "Geeks\n",
      "Geeks\n",
      "Geeks\n",
      "Geeks\n",
      "Geeks\n"
     ]
    }
   ],
   "source": [
    "tup = (5, \"welcome\", 7, \"Geeks\")\n",
    "print(tup)\n",
    "\n",
    "tup1 = (0,1,2,3,4)\n",
    "tup2 = ('python', 'geek')\n",
    "tup3 = (tup1, tup2)\n",
    "print(tup3)\n",
    "\n",
    "tup1 = (\"geeks\",)*3\n",
    "print(tup1)\n",
    "\n",
    "tup = ('Geeks')\n",
    "n = 5\n",
    "\n",
    "for i in range(int(n)):\n",
    "    tup = (tup)\n",
    "    print(tup)"
   ]
  },
  {
   "cell_type": "markdown",
   "metadata": {},
   "source": [
    "accessing of tuples\n"
   ]
  },
  {
   "cell_type": "code",
   "execution_count": 26,
   "metadata": {},
   "outputs": [
    {
     "name": "stdout",
     "output_type": "stream",
     "text": [
      "G\n",
      "('e', 'e', 'k')\n",
      "('G', 'e', 'e', 'k')\n",
      "('s', 'k', 'e', 'e', 'G')\n",
      "Geeks\n",
      "For\n",
      "Geeks\n"
     ]
    }
   ],
   "source": [
    "#accessing of tuples\n",
    "\n",
    "tup = tuple(\"Geeks\")\n",
    "print(tup[0])\n",
    "\n",
    "print(tup[1:4])\n",
    "print(tup[:-1])\n",
    "print(tup[::-1])\n",
    "\n",
    "tup = (\"Geeks\", \"For\", \"Geeks\")\n",
    "\n",
    "a, b, c = tup\n",
    "\n",
    "print(a)\n",
    "print(b)\n",
    "print(c)\n",
    "\n",
    "\n"
   ]
  },
  {
   "cell_type": "code",
   "execution_count": 2,
   "metadata": {},
   "outputs": [
    {
     "data": {
      "text/plain": [
       "(0, 1, 2, 3, 'Geeks', 'For', 'Geeks')"
      ]
     },
     "execution_count": 2,
     "metadata": {},
     "output_type": "execute_result"
    }
   ],
   "source": [
    "tup1 = (0,1,2,3)\n",
    "tup2 = ('Geeks', 'For', 'Geeks')\n",
    "\n",
    "tup3 = tup1 + tup2\n",
    "tup3"
   ]
  },
  {
   "cell_type": "code",
   "execution_count": 3,
   "metadata": {},
   "outputs": [
    {
     "name": "stdout",
     "output_type": "stream",
     "text": [
      "1\n",
      "[2, 3, 4, 5, 6, 7, 8]\n",
      "9\n"
     ]
    }
   ],
   "source": [
    "tup = [x for x in range(1, 10)]\n",
    "new_tup = tuple(tup)\n",
    "\n",
    "a, *b, c = new_tup\n",
    "\n",
    "print(a)\n",
    "print(b)\n",
    "print(c)"
   ]
  },
  {
   "cell_type": "code",
   "execution_count": null,
   "metadata": {},
   "outputs": [],
   "source": []
  }
 ],
 "metadata": {
  "kernelspec": {
   "display_name": "base",
   "language": "python",
   "name": "python3"
  },
  "language_info": {
   "codemirror_mode": {
    "name": "ipython",
    "version": 3
   },
   "file_extension": ".py",
   "mimetype": "text/x-python",
   "name": "python",
   "nbconvert_exporter": "python",
   "pygments_lexer": "ipython3",
   "version": "3.12.7"
  }
 },
 "nbformat": 4,
 "nbformat_minor": 2
}

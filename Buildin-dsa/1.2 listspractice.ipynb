{
 "cells": [
  {
   "cell_type": "markdown",
   "metadata": {},
   "source": [
    "Basic Level "
   ]
  },
  {
   "cell_type": "markdown",
   "metadata": {},
   "source": [
    "1. Creating a list and finding the sum of elements\n"
   ]
  },
  {
   "cell_type": "code",
   "execution_count": 2,
   "metadata": {},
   "outputs": [
    {
     "name": "stdout",
     "output_type": "stream",
     "text": [
      "10\n"
     ]
    }
   ],
   "source": [
    "# Creating the list and suming up the elments of ikt \n",
    "def sum_list(numbers):\n",
    "    return sum(numbers)\n",
    "\n",
    "#Example Usage\n",
    "my_list = [1, 2, 3, 4]\n",
    "result = sum_list(my_list)\n",
    "print(result)"
   ]
  },
  {
   "cell_type": "markdown",
   "metadata": {},
   "source": [
    "2. Finding the max, min and average element from the list of number"
   ]
  },
  {
   "cell_type": "code",
   "execution_count": 2,
   "metadata": {},
   "outputs": [
    {
     "name": "stdout",
     "output_type": "stream",
     "text": [
      "The max element is 1000 and min element is 1 and their avg is 242.375\n"
     ]
    }
   ],
   "source": [
    "def max_list(numbers):\n",
    "    # Empty list can be handle, error handling\n",
    "    if not numbers:\n",
    "        return None\n",
    "    return max(numbers)\n",
    "\n",
    "def min_list(numbers):\n",
    "    # Empty list can be handle, error handling\n",
    "    if not numbers:\n",
    "        return None\n",
    "    return min(numbers)\n",
    "\n",
    "def avg_of_elements(numbers):\n",
    "    if not numbers:\n",
    "        return None\n",
    "    return sum(numbers)/len(numbers)\n",
    "\n",
    "my_list1 = [101, 98, 100, 89, 50, 500, 1000, 1]\n",
    "result1, result2 , avg = max_list(my_list1), min_list(my_list1), avg_of_elements(my_list1)\n",
    "\n",
    "print(f'The max element is {result1} and min element is {result2} and their avg is {avg}')\n"
   ]
  },
  {
   "cell_type": "markdown",
   "metadata": {},
   "source": [
    "3. Reverse a list without using built-in reverse method"
   ]
  },
  {
   "cell_type": "code",
   "execution_count": 4,
   "metadata": {},
   "outputs": [
    {
     "name": "stdout",
     "output_type": "stream",
     "text": [
      "The reversed list is [5, 4, 3, 2, 1].\n"
     ]
    }
   ],
   "source": [
    "list_reverese = [1, 2, 3, 4, 5]\n",
    "\n",
    "#function to reverse the elements of the list\n",
    "def reverse_method(numbers):\n",
    "    n = len(numbers)\n",
    "    #Swapping elements from start and end moving towards the center\n",
    "    for i in range(n//2):\n",
    "        # Updating elements simultaneously\n",
    "        numbers[i], numbers[n-i-1] = numbers[n-i-1], numbers[i]\n",
    "    return numbers\n",
    "\n",
    "#Calling the Function\n",
    "reverse_list = reverse_method(list_reverese)\n",
    "print(f'The reversed list is {reverse_list}.')\n"
   ]
  },
  {
   "cell_type": "code",
   "execution_count": 5,
   "metadata": {},
   "outputs": [
    {
     "data": {
      "text/plain": [
       "0"
      ]
     },
     "execution_count": 5,
     "metadata": {},
     "output_type": "execute_result"
    }
   ],
   "source": [
    "my_list1.count(5)"
   ]
  },
  {
   "cell_type": "markdown",
   "metadata": {},
   "source": [
    "Intermediate Level"
   ]
  },
  {
   "cell_type": "markdown",
   "metadata": {},
   "source": [
    "4. Removing duplicates from a list"
   ]
  },
  {
   "cell_type": "code",
   "execution_count": null,
   "metadata": {},
   "outputs": [
    {
     "name": "stdout",
     "output_type": "stream",
     "text": [
      "[1, 2, 3, 4, 5, 6, 7, 8]\n"
     ]
    }
   ],
   "source": [
    "natural = [1, 2, 3, 3, 4, 5, 5, 5, 6, 7, 7, 8, 8, 8]\n",
    "\n",
    "# def remove_duplicates(nums):\n",
    "#     seen = set() #A set to track unique elements and it was emptY WAS and updated \n",
    "#     unique_nums = []  # To store unique elements\n",
    "#     for num in nums:\n",
    "#         if num not in seen:  # If the number is not already in the unique list\n",
    "#             unique_nums.append(num)  # Add it to the unique list\n",
    "#             seen.add(num)\n",
    "#     return unique_nums\n",
    "\n",
    "# #Updating list after removing the duplicates from list\n",
    "# natural = remove_duplicates(natural)\n",
    "# print(natural)\n",
    "\n",
    "removed_duplicate = list(set(natural)) \n",
    "print(removed_duplicate) "
   ]
  },
  {
   "cell_type": "markdown",
   "metadata": {},
   "source": [
    "5.New list using list comprehension for even numbers"
   ]
  },
  {
   "cell_type": "code",
   "execution_count": 7,
   "metadata": {},
   "outputs": [
    {
     "name": "stdout",
     "output_type": "stream",
     "text": [
      "[0, 2, 4, 6, 8, 10, 12, 14, 16, 18, 20, 22, 24, 26, 28, 30, 32, 34, 36, 38, 40, 42, 44, 46, 48, 50, 52, 54, 56, 58, 60, 62, 64, 66, 68, 70, 72, 74, 76, 78, 80, 82, 84, 86, 88]\n"
     ]
    }
   ],
   "source": [
    "n = 89\n",
    "\n",
    "#List Comptehension for even number\n",
    "even_numbers = [x for x in range(0,n) if x%2 ==0]\n",
    "print(even_numbers)"
   ]
  },
  {
   "cell_type": "markdown",
   "metadata": {},
   "source": [
    "6.Flattening a list"
   ]
  },
  {
   "cell_type": "markdown",
   "metadata": {},
   "source": [
    "6.1 Using iteration"
   ]
  },
  {
   "cell_type": "code",
   "execution_count": 8,
   "metadata": {},
   "outputs": [
    {
     "name": "stdout",
     "output_type": "stream",
     "text": [
      "[1, 2, 3, 4, 5, 6, 7]\n"
     ]
    }
   ],
   "source": [
    "def flatten_list(nested_list1):\n",
    "    flast_list = [] \n",
    "    for sub_list in nested_list1:\n",
    "        for item in sub_list:\n",
    "            flast_list.append(item)\n",
    "    return flast_list\n",
    "\n",
    "nested_list = [[1, 2], [3,4, 5], [6,7]]\n",
    "print(flatten_list(nested_list))"
   ]
  },
  {
   "cell_type": "markdown",
   "metadata": {},
   "source": [
    "6.2 Using Recursion"
   ]
  },
  {
   "cell_type": "code",
   "execution_count": 9,
   "metadata": {},
   "outputs": [
    {
     "name": "stdout",
     "output_type": "stream",
     "text": [
      "[1, 2, 3, 4, 5, 4, 6, 8, 9, 90, 19]\n"
     ]
    }
   ],
   "source": [
    "def flatten_list_recursion(nested_list):\n",
    "    #flat_list is used as a empty list and adding elemnets to it simulataneously\n",
    "    flat_list = []\n",
    "    for item in nested_list:\n",
    "         #if the item is a list,recursivley flatten it\n",
    "        if isinstance(item, list):\n",
    "              #extend() is a method used to add all elements from an iterable (like a list) to another list\n",
    "              flat_list.extend(flatten_list_recursion(item))\n",
    "        else:\n",
    "         # if its not a list , add it directly\n",
    "         flat_list.append(item)\n",
    "    return flat_list\n",
    "\n",
    "nested_list1 = [[1, 2], [3, [4, 5,[4,6]],],[8,9,[90,19]]]\n",
    "print(flatten_list_recursion(nested_list1))"
   ]
  },
  {
   "cell_type": "markdown",
   "metadata": {},
   "source": [
    "7.Spilliting the list into two halves and if the no of item are odd adding the element to first list"
   ]
  },
  {
   "cell_type": "markdown",
   "metadata": {},
   "source": [
    "7.1 Using loops"
   ]
  },
  {
   "cell_type": "code",
   "execution_count": 10,
   "metadata": {},
   "outputs": [
    {
     "name": "stdout",
     "output_type": "stream",
     "text": [
      "([0, 1, 2], [3, 4])\n"
     ]
    }
   ],
   "source": [
    "def splitting_list(original_list):\n",
    "    list1 = []\n",
    "    list2 = []\n",
    "    n  = len(original_list)\n",
    "    for item in range(n):\n",
    "        if item<= n//2:\n",
    "            list1.append(item)\n",
    "        else:\n",
    "            list2.append(item)\n",
    "    return list1,list2\n",
    "\n",
    "my_list1 = [1, 2, 3, 4, 5]\n",
    "print(splitting_list(my_list1))"
   ]
  },
  {
   "cell_type": "markdown",
   "metadata": {},
   "source": [
    "7.2 Slicing Technique"
   ]
  },
  {
   "cell_type": "code",
   "execution_count": 11,
   "metadata": {},
   "outputs": [
    {
     "name": "stdout",
     "output_type": "stream",
     "text": [
      "([1, 2, 3, 4], [5, 6, 7])\n"
     ]
    }
   ],
   "source": [
    "#most effecient way\n",
    "def splitting_list_slicing(original_list):\n",
    "    n = len(original_list)\n",
    "    mid = (n+1) //2 \n",
    "    list1 = original_list[:mid]\n",
    "    list2 = original_list[mid:]\n",
    "    return list1, list2\n",
    "\n",
    "mine_list = [1, 2, 3, 4, 5,6, 7]\n",
    "print(splitting_list_slicing(mine_list))"
   ]
  },
  {
   "cell_type": "markdown",
   "metadata": {},
   "source": [
    "8. Finding common in two differnt lists"
   ]
  },
  {
   "cell_type": "code",
   "execution_count": 12,
   "metadata": {},
   "outputs": [
    {
     "name": "stdout",
     "output_type": "stream",
     "text": [
      "['Rayyan', 8.9]\n"
     ]
    }
   ],
   "source": [
    "hlist1 = [1, 'Rayyan', 8.9, True]\n",
    "hlist2 = [2, 'Rayyan', 9.0, 8.9, False]\n",
    "common_elements =  [x for x in hlist1 if x in hlist2 ]\n",
    "print(common_elements)"
   ]
  },
  {
   "cell_type": "markdown",
   "metadata": {},
   "source": [
    "Advanced Level\n"
   ]
  },
  {
   "cell_type": "markdown",
   "metadata": {},
   "source": [
    "9. Rotating a list"
   ]
  },
  {
   "cell_type": "code",
   "execution_count": 13,
   "metadata": {},
   "outputs": [
    {
     "name": "stdout",
     "output_type": "stream",
     "text": [
      "[4, 5, 1, 2, 3]\n",
      "[3, 4, 5, 1, 2]\n"
     ]
    }
   ],
   "source": [
    "def rotating_list(lst, k, direction = ''):\n",
    "    #Validating a list\n",
    "    if not isinstance(lst, list):\n",
    "        raise TypeError(\"Enter a valid list\") \n",
    "    if not isinstance(k,int):  #\n",
    "        raise TypeError(\"Step length should be integer\")\n",
    "    if direction not in {'left' ,'right'}:\n",
    "        raise ValueError(\"Direction must be left or right\")\n",
    "    \n",
    "    n = len(lst)       # Normalize k to handle cases where k > n or k < 0 \n",
    "    \n",
    "    if n==0:\n",
    "        return lst\n",
    "    \n",
    "    k = k%n\n",
    "    \n",
    "    #Applying rotation based on the direction\n",
    "    if direction == 'right':    #[1, 2, 3, 4, 5]= [4, 5]+ [1, 2, 3] = [4, 5, 1, 2, 3]\n",
    "        return lst[-k:]+lst[:-k]\n",
    "    else:                       #[1, 2, 3, 4, 5]= [3, 4,5] + [1, 2] = [3, 4, 5, 1, 2]\n",
    "        return lst[k:]+lst[:k]\n",
    "    \n",
    "lst = [1, 2, 3, 4, 5]\n",
    "print(rotating_list(lst, 2, 'right')) #Rotationg the list(rigth) by step size 2\n",
    "print(rotating_list(lst, 2, 'left'))"
   ]
  },
  {
   "cell_type": "markdown",
   "metadata": {},
   "source": [
    "10. Find Pairs with a Given Sum: Given a list of numbers and a target sum, find all pairs of numbers that add up to the target sum."
   ]
  },
  {
   "cell_type": "code",
   "execution_count": null,
   "metadata": {},
   "outputs": [
    {
     "name": "stdout",
     "output_type": "stream",
     "text": [
      "[(3, 7), (1, 9), (5, 5)]\n"
     ]
    }
   ],
   "source": [
    "def find_pairs_with_target_sum(numbers, target_sum):\n",
    "    pair = []\n",
    "    seen = set()    # To store numbers we've already encountered\n",
    "\n",
    "    for num in numbers:\n",
    "        complement = target_sum-num # Find the number needed to reach the target\n",
    "        if complement in seen:      #Add to pair\n",
    "            pair.append((complement,num))   \n",
    "        seen.add(num)\n",
    "\n",
    "    return pair\n",
    "\n",
    "numbers = [2, 4, 3, 7, 1, 5, 9,5]\n",
    "target_sum = 10\n",
    "\n",
    "result = find_pairs_with_target_sum(numbers, target_sum)\n",
    "print(result)"
   ]
  },
  {
   "cell_type": "markdown",
   "metadata": {},
   "source": [
    "11. sorting two lists and merging them"
   ]
  },
  {
   "cell_type": "code",
   "execution_count": 1,
   "metadata": {},
   "outputs": [
    {
     "name": "stdout",
     "output_type": "stream",
     "text": [
      "[1, 2, 3, 4, 5, 5, 6, 7, 8, 9]\n"
     ]
    }
   ],
   "source": [
    "def sorting_merging_lists(list1, list2):\n",
    "    return sorted(list1+list2)\n",
    "\n",
    "my_list1 = [9,5,6,8,7]\n",
    "my_list2 = [4,2,1,5,3]\n",
    "print(sorting_merging_lists(my_list1,my_list2))"
   ]
  }
 ],
 "metadata": {
  "kernelspec": {
   "display_name": "Python 3",
   "language": "python",
   "name": "python3"
  },
  "language_info": {
   "codemirror_mode": {
    "name": "ipython",
    "version": 3
   },
   "file_extension": ".py",
   "mimetype": "text/x-python",
   "name": "python",
   "nbconvert_exporter": "python",
   "pygments_lexer": "ipython3",
   "version": "3.13.0"
  }
 },
 "nbformat": 4,
 "nbformat_minor": 2
}

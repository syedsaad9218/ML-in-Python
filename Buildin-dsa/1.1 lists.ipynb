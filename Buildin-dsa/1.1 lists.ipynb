{
 "cells": [
  {
   "cell_type": "markdown",
   "metadata": {},
   "source": []
  },
  {
   "cell_type": "markdown",
   "metadata": {},
   "source": [
    "Creating a my_list\n"
   ]
  },
  {
   "cell_type": "code",
   "execution_count": 2,
   "metadata": {},
   "outputs": [
    {
     "name": "stdout",
     "output_type": "stream",
     "text": [
      "['ana Berg', 'jacob', 'biden', 'jack', 'bismuth']\n"
     ]
    }
   ],
   "source": [
    "# A my_list is the data structure which can consists any type of data itemd\n",
    "# it may integr,string, float and boolean\n",
    "\n",
    "\n",
    "#Creating a my_list\n",
    "my_list = ['ana Berg','jacob','biden','jack','bismuth',]\n",
    "\n",
    "print(my_list)"
   ]
  },
  {
   "cell_type": "markdown",
   "metadata": {},
   "source": [
    "Acessing them based on their index"
   ]
  },
  {
   "cell_type": "code",
   "execution_count": null,
   "metadata": {},
   "outputs": [
    {
     "name": "stdout",
     "output_type": "stream",
     "text": [
      "jack\n"
     ]
    }
   ],
   "source": [
    "# Acessing the my_list elements using index\n",
    "# indexing goes like 0,1,2,,3,4 and so on\n",
    "\n",
    "print(my_list[0])\n",
    "print(my_list[1])\n",
    "print(my_list[2])\n",
    "print(my_list[3])\n",
    "print(my_list[4])\n",
    "\n",
    "# -1 is used to indicate the last element in the my_list\n",
    "\n",
    "print(my_list[-2])"
   ]
  },
  {
   "cell_type": "code",
   "execution_count": null,
   "metadata": {},
   "outputs": [
    {
     "name": "stdout",
     "output_type": "stream",
     "text": [
      "['jacob', 1]\n",
      "['Dell']\n",
      "[1, 8.9, True]\n"
     ]
    }
   ],
   "source": [
    "# my_list[i : j] \n",
    "# where i is the intial element and j is the last element we want to acess\n",
    "print(my_list[1:3])\n",
    "print(my_list[-1:])\n",
    "print(my_list[2: -1])"
   ]
  },
  {
   "cell_type": "code",
   "execution_count": 3,
   "metadata": {},
   "outputs": [
    {
     "name": "stdout",
     "output_type": "stream",
     "text": [
      "ana Berg\n",
      "jacob\n",
      "biden\n",
      "jack\n",
      "bismuth\n"
     ]
    }
   ],
   "source": [
    "# len() can be used to know the number of elements in your my_list\n",
    "n = len(my_list)\n",
    "for i  in range (0, n):\n",
    "    print(my_list[i])\n"
   ]
  },
  {
   "cell_type": "code",
   "execution_count": null,
   "metadata": {},
   "outputs": [
    {
     "data": {
      "text/plain": [
       "1"
      ]
     },
     "execution_count": 12,
     "metadata": {},
     "output_type": "execute_result"
    }
   ],
   "source": [
    "my_list.index('jacob')"
   ]
  },
  {
   "cell_type": "markdown",
   "metadata": {},
   "source": [
    "Updating the my_list elements."
   ]
  },
  {
   "cell_type": "code",
   "execution_count": 3,
   "metadata": {},
   "outputs": [
    {
     "name": "stdout",
     "output_type": "stream",
     "text": [
      "['ana Berg', 'hyna jacob', 'biden', 'jack', 'bismuth']\n"
     ]
    }
   ],
   "source": [
    "my_list[1] = 'hyna jacob'\n",
    "print(my_list)"
   ]
  },
  {
   "cell_type": "markdown",
   "metadata": {},
   "source": [
    "my_list Methods\n"
   ]
  },
  {
   "cell_type": "markdown",
   "metadata": {},
   "source": []
  },
  {
   "cell_type": "markdown",
   "metadata": {},
   "source": [
    "1. Append\n",
    "\n",
    "Apend add the elemet at the last of the my_list\n"
   ]
  },
  {
   "cell_type": "code",
   "execution_count": 4,
   "metadata": {},
   "outputs": [
    {
     "name": "stdout",
     "output_type": "stream",
     "text": [
      "['ana Berg', 'hyna jacob', 'biden', 'jack', 'bismuth', 'Dell']\n"
     ]
    },
    {
     "data": {
      "text/plain": [
       "1"
      ]
     },
     "execution_count": 4,
     "metadata": {},
     "output_type": "execute_result"
    }
   ],
   "source": [
    "my_list.append('Dell')\n",
    "print(my_list)\n",
    "\n",
    "#count in-built function\n",
    "\n",
    "my_list.count('Dell')\n"
   ]
  },
  {
   "cell_type": "markdown",
   "metadata": {},
   "source": [
    " 2. Insert.\n",
    " \n",
    " insert the element based ob the specific index\n"
   ]
  },
  {
   "cell_type": "code",
   "execution_count": 5,
   "metadata": {},
   "outputs": [
    {
     "name": "stdout",
     "output_type": "stream",
     "text": [
      "['ana Berg', 'hyna jacob', 'biden', 'jack', 'maria', 'bismuth', 'Dell']\n"
     ]
    }
   ],
   "source": [
    "my_list.insert(4,\"maria\")\n",
    "print(my_list)"
   ]
  },
  {
   "cell_type": "markdown",
   "metadata": {},
   "source": [
    "3. Remove\n"
   ]
  },
  {
   "cell_type": "code",
   "execution_count": null,
   "metadata": {},
   "outputs": [
    {
     "name": "stdout",
     "output_type": "stream",
     "text": [
      "['Zuker Berg', 'hyna jacob', 'biden', 'jack', 'maria', 'bismuth']\n"
     ]
    }
   ],
   "source": [
    "#Remove the element at the first occurance without considering index\n",
    "my_list.remove('Dell')\n",
    "print(my_list)\n"
   ]
  },
  {
   "cell_type": "code",
   "execution_count": null,
   "metadata": {},
   "outputs": [
    {
     "name": "stdout",
     "output_type": "stream",
     "text": [
      "['Zuker Berg', 'hyna jacob', 'biden', 'jack', 'maria']\n"
     ]
    }
   ],
   "source": [
    "#pop() function can be used to remove element at specific index\n",
    "\n",
    "my_list.pop(5)\n",
    "print(my_list)"
   ]
  },
  {
   "cell_type": "code",
   "execution_count": 8,
   "metadata": {},
   "outputs": [
    {
     "name": "stdout",
     "output_type": "stream",
     "text": [
      "['Dell', 'ana Berg', 'biden', 'bismuth', 'hyna jacob', 'jack', 'maria']\n"
     ]
    }
   ],
   "source": [
    "my_list.sort()\n",
    "print(my_list)"
   ]
  },
  {
   "cell_type": "code",
   "execution_count": 15,
   "metadata": {},
   "outputs": [
    {
     "name": "stdout",
     "output_type": "stream",
     "text": [
      "0 ana Berg\n",
      "1 jacob\n",
      "2 biden\n",
      "3 jack\n",
      "4 bismuth\n"
     ]
    }
   ],
   "source": [
    "for index,my_list in enumerate(my_list):\n",
    "    print(index,my_list)"
   ]
  },
  {
   "cell_type": "markdown",
   "metadata": {},
   "source": [
    "List Comprehension"
   ]
  },
  {
   "cell_type": "markdown",
   "metadata": {},
   "source": [
    "1. Basic Syntax\n",
    "         [expresion for item in iterable\n",
    "\n",
    "2. Nestesd list comprehension [expression for item1 in iterable1 for item2 in iterable2 ]"
   ]
  },
  {
   "cell_type": "code",
   "execution_count": 9,
   "metadata": {},
   "outputs": [
    {
     "name": "stdout",
     "output_type": "stream",
     "text": [
      "[1, 4, 9, 16, 25, 36, 49, 64, 81]\n"
     ]
    }
   ],
   "source": [
    "lst = []\n",
    "for x in range(1,10):\n",
    "    lst.append(x**2)\n",
    "\n",
    "print(lst)"
   ]
  },
  {
   "cell_type": "code",
   "execution_count": 19,
   "metadata": {},
   "outputs": [
    {
     "data": {
      "text/plain": [
       "[1, 2, 5, 10, 17, 26, 37, 50, 65, 82]"
      ]
     },
     "execution_count": 19,
     "metadata": {},
     "output_type": "execute_result"
    }
   ],
   "source": [
    "#list can be created without pre defing the list \n",
    "\n",
    "[(x**2)+1 for x in range(10)]"
   ]
  },
  {
   "cell_type": "code",
   "execution_count": 3,
   "metadata": {},
   "outputs": [
    {
     "name": "stdout",
     "output_type": "stream",
     "text": [
      "[0, 4, 16, 36, 64]\n"
     ]
    }
   ],
   "source": [
    "list1 = [x**2 for x in range(0,10) if x % 2 ==0]\n",
    "print(list1)"
   ]
  },
  {
   "cell_type": "code",
   "execution_count": 1,
   "metadata": {},
   "outputs": [
    {
     "name": "stdout",
     "output_type": "stream",
     "text": [
      "[[1, 'a'], [1, 'b'], [1, 'c'], [1, 'd'], [2, 'a'], [2, 'b'], [2, 'c'], [2, 'd'], [3, 'a'], [3, 'b'], [3, 'c'], [3, 'd'], [4, 'a'], [4, 'b'], [4, 'c'], [4, 'd']]\n"
     ]
    }
   ],
   "source": [
    "## Nested list Comprehension\n",
    "\n",
    "list1  = [1, 2, 3, 4]\n",
    "list2  = ['a', 'b', 'c' ,'d']\n",
    "\n",
    "pair = [[i, j] for i in list1 for j in list2]\n",
    "\n",
    "print(pair)"
   ]
  },
  {
   "cell_type": "code",
   "execution_count": 1,
   "metadata": {},
   "outputs": [
    {
     "name": "stdout",
     "output_type": "stream",
     "text": [
      "[5, 5, 6, 4, 13]\n"
     ]
    }
   ],
   "source": [
    "## List comprehension with function calls\n",
    "k = ['hello','world','python','list','comprehension']\n",
    "lengths = [len(i) for i in k]\n",
    "print(lengths)"
   ]
  }
 ],
 "metadata": {
  "kernelspec": {
   "display_name": "base",
   "language": "python",
   "name": "python3"
  },
  "language_info": {
   "codemirror_mode": {
    "name": "ipython",
    "version": 3
   },
   "file_extension": ".py",
   "mimetype": "text/x-python",
   "name": "python",
   "nbconvert_exporter": "python",
   "pygments_lexer": "ipython3",
   "version": "3.12.7"
  }
 },
 "nbformat": 4,
 "nbformat_minor": 2
}

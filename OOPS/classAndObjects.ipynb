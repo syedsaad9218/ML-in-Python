{
 "cells": [
  {
   "cell_type": "markdown",
   "id": "d69492d8",
   "metadata": {},
   "source": [
    "Create a class named `BankAccount` with private attributes `account_number` and `balance`. Add methods to deposit and withdraw money, and to check the balance. Create an object of the class and perform some operations."
   ]
  },
  {
   "cell_type": "code",
   "execution_count": 1,
   "id": "7dcf7616",
   "metadata": {},
   "outputs": [
    {
     "name": "stdout",
     "output_type": "stream",
     "text": [
      "10000\n",
      "100 is deposite and new balance is 10100\n",
      "None\n",
      "paise nai hai gareeb\n",
      "None\n"
     ]
    }
   ],
   "source": [
    "class BankAccount :\n",
    "    def __init__(self, owner, balance=0):\n",
    "        self.owner = owner\n",
    "        self.balance = balance\n",
    "\n",
    "    def deposite(self, amount):\n",
    "        self.balance+=amount\n",
    "        print(f\"{amount} is deposite and new balance is {self.balance}\")\n",
    "\n",
    "    def withdraw(self, amount):\n",
    "        if amount>self.balance:\n",
    "            print(\"paise nai hai gareeb\")\n",
    "        else:\n",
    "            self.balance-=amount\n",
    "            print(f\"{amount} is withdraw and new balance is {self.balance}\")\n",
    "\n",
    "    def AccBalance(self):\n",
    "        self.balance\n",
    "\n",
    "Account = BankAccount(\"Saad\", 10000)\n",
    "print(Account.balance)\n",
    "print(Account.deposite(100))\n",
    "print(Account.withdraw(20000))"
   ]
  }
 ],
 "metadata": {
  "kernelspec": {
   "display_name": "base",
   "language": "python",
   "name": "python3"
  },
  "language_info": {
   "codemirror_mode": {
    "name": "ipython",
    "version": 3
   },
   "file_extension": ".py",
   "mimetype": "text/x-python",
   "name": "python",
   "nbconvert_exporter": "python",
   "pygments_lexer": "ipython3",
   "version": "3.12.7"
  }
 },
 "nbformat": 4,
 "nbformat_minor": 5
}

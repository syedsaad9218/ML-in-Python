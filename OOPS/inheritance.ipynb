{
 "cells": [
  {
   "cell_type": "markdown",
   "id": "45181777",
   "metadata": {},
   "source": [
    "Create a class Animal with an attribute name and a method speak()."
   ]
  },
  {
   "cell_type": "code",
   "execution_count": 1,
   "id": "c7007ee8",
   "metadata": {},
   "outputs": [
    {
     "name": "stdout",
     "output_type": "stream",
     "text": [
      "dog\n",
      "animal makes sound\n"
     ]
    }
   ],
   "source": [
    "class Animal:\n",
    "    def __init__(self, name):\n",
    "        self.name = name\n",
    "\n",
    "    def speak(self):\n",
    "        return \"animal makes sound\"\n",
    "\n",
    "animal = Animal(\"dog\")\n",
    "print(animal.name)\n",
    "print(animal.speak())"
   ]
  },
  {
   "cell_type": "markdown",
   "id": "755c5772",
   "metadata": {},
   "source": [
    "Create a parent class Person with attributes name and age.\n",
    "Then, create a subclass Student that inherits from Person and adds an attribute student_id."
   ]
  },
  {
   "cell_type": "code",
   "execution_count": 2,
   "id": "5c790794",
   "metadata": {},
   "outputs": [
    {
     "name": "stdout",
     "output_type": "stream",
     "text": [
      "saad\n",
      "20\n",
      "5G6\n"
     ]
    }
   ],
   "source": [
    "class Person:\n",
    "    def __init__(self, name, age):\n",
    "        self.name = name\n",
    "        self.age = age\n",
    "\n",
    "class Student(Person):\n",
    "    def __init__(self, name, age, student_id):\n",
    "        super().__init__(name, age)\n",
    "        self.student_id = student_id\n",
    "\n",
    "student = Student(\"saad\", 20, \"5G6\")\n",
    "print(student.name)\n",
    "print(student.age)\n",
    "print(student.student_id)\n"
   ]
  },
  {
   "cell_type": "markdown",
   "id": "3a5cfce6",
   "metadata": {},
   "source": [
    "Create a base class Vehicle with a method fuel_type() that prints \"Petrol\".\n",
    "Then, create a subclass ElectricCar that overrides fuel_type() to print \"Electricity\".\n",
    "\n",
    "Create objects of both classes and call the fuel_type() method to check overriding."
   ]
  },
  {
   "cell_type": "code",
   "execution_count": 3,
   "id": "2b781456",
   "metadata": {},
   "outputs": [
    {
     "name": "stdout",
     "output_type": "stream",
     "text": [
      "petrol\n",
      "Electricity\n"
     ]
    }
   ],
   "source": [
    "class Vehicle:\n",
    "    def fuel_type(self):\n",
    "        return \"petrol\"\n",
    "\n",
    "class ElectricCar:\n",
    "    def fuel_type(self):\n",
    "        return \"Electricity\"\n",
    "\n",
    "vehicle = Vehicle()\n",
    "print(vehicle.fuel_type())\n",
    "electricCar = ElectricCar()\n",
    "print(electricCar.fuel_type())"
   ]
  },
  {
   "cell_type": "markdown",
   "id": "377e91f0",
   "metadata": {},
   "source": [
    "Create a three-level inheritance hierarchy:\n",
    "\n",
    "Class Grandparent → Method family_name() that prints \"Smith\"\n",
    "Class Parent (inherits from Grandparent) → Method hobby() that prints \"Reading\"\n",
    "Class Child (inherits from Parent) → Method favorite_sport() that prints \"Football\""
   ]
  },
  {
   "cell_type": "code",
   "execution_count": 4,
   "id": "9da091f0",
   "metadata": {},
   "outputs": [
    {
     "name": "stdout",
     "output_type": "stream",
     "text": [
      "Smith\n",
      "Reading\n",
      "Football\n"
     ]
    }
   ],
   "source": [
    "class Grandparent:\n",
    "    def family_name(self):\n",
    "        return \"Smith\"\n",
    "class Parent(Grandparent):\n",
    "    def hobby(self):\n",
    "        return \"Reading\"\n",
    "\n",
    "class Child(Parent):\n",
    "    def favorite_sport(self):\n",
    "        return \"Football\"\n",
    "\n",
    "child = Child()\n",
    "\n",
    "print(child.family_name())\n",
    "print(child.hobby())\n",
    "print(child.favorite_sport())"
   ]
  },
  {
   "cell_type": "markdown",
   "id": "992a38f5",
   "metadata": {},
   "source": [
    "Class Teacher with method teach() that prints \"Teaching...\"\n",
    "Class Researcher with method research() that prints \"Researching...\"\n",
    "Create a Professor class that inherits from both Teacher and Researcher.\n",
    "Create a Professor object and call both methods. Use super() to check method resolution order.\n"
   ]
  },
  {
   "cell_type": "code",
   "execution_count": 5,
   "id": "c250259f",
   "metadata": {},
   "outputs": [
    {
     "name": "stdout",
     "output_type": "stream",
     "text": [
      "Teaching\n",
      "Researching\n"
     ]
    }
   ],
   "source": [
    "class Teacher:\n",
    "    def teach(self):\n",
    "        return \"Teaching\"\n",
    "\n",
    "class Researcher:\n",
    "    def research(self):\n",
    "        return \"Researching\"\n",
    "\n",
    "class Professor(Teacher, Researcher):\n",
    "    def professor(self):\n",
    "        print(super().teach())\n",
    "        print(super().research())\n",
    "\n",
    "pro = Professor()\n",
    "pro.professor()"
   ]
  }
 ],
 "metadata": {
  "kernelspec": {
   "display_name": "base",
   "language": "python",
   "name": "python3"
  },
  "language_info": {
   "codemirror_mode": {
    "name": "ipython",
    "version": 3
   },
   "file_extension": ".py",
   "mimetype": "text/x-python",
   "name": "python",
   "nbconvert_exporter": "python",
   "pygments_lexer": "ipython3",
   "version": "3.12.7"
  }
 },
 "nbformat": 4,
 "nbformat_minor": 5
}

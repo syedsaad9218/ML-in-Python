{
 "cells": [
  {
   "cell_type": "markdown",
   "id": "4d34d890",
   "metadata": {},
   "source": [
    "Creating a my_list"
   ]
  },
  {
   "cell_type": "code",
   "execution_count": 1,
   "id": "2bbff52a",
   "metadata": {},
   "outputs": [
    {
     "name": "stdout",
     "output_type": "stream",
     "text": [
      "['ana Berg', 'jacob', 'biden', 'jack', 'bismuth']\n"
     ]
    }
   ],
   "source": [
    "\n",
    "my_list = ['ana Berg','jacob','biden','jack','bismuth',]\n",
    "\n",
    "print(my_list)"
   ]
  },
  {
   "cell_type": "markdown",
   "id": "5b913fac",
   "metadata": {},
   "source": [
    "Acessing them based on their index"
   ]
  },
  {
   "cell_type": "code",
   "execution_count": 2,
   "id": "57772869",
   "metadata": {},
   "outputs": [
    {
     "name": "stdout",
     "output_type": "stream",
     "text": [
      "ana Berg\n",
      "jacob\n",
      "biden\n",
      "jack\n",
      "bismuth\n",
      "jack\n"
     ]
    }
   ],
   "source": [
    "\n",
    "print(my_list[0])\n",
    "print(my_list[1])\n",
    "print(my_list[2])\n",
    "print(my_list[3])\n",
    "print(my_list[4])\n",
    "\n",
    "\n",
    "\n",
    "print(my_list[-2])"
   ]
  },
  {
   "cell_type": "code",
   "execution_count": 3,
   "id": "5299f15c",
   "metadata": {},
   "outputs": [
    {
     "name": "stdout",
     "output_type": "stream",
     "text": [
      "['jacob', 'biden']\n",
      "['bismuth']\n",
      "['biden', 'jack']\n"
     ]
    }
   ],
   "source": [
    "\n",
    "print(my_list[1:3])\n",
    "print(my_list[-1:])\n",
    "print(my_list[2: -1])"
   ]
  },
  {
   "cell_type": "code",
   "execution_count": 4,
   "id": "790b51e3",
   "metadata": {},
   "outputs": [
    {
     "name": "stdout",
     "output_type": "stream",
     "text": [
      "ana Berg\n",
      "jacob\n",
      "biden\n",
      "jack\n",
      "bismuth\n"
     ]
    }
   ],
   "source": [
    "\n",
    "n = len(my_list)\n",
    "for i  in range (0, n):\n",
    "    print(my_list[i])"
   ]
  },
  {
   "cell_type": "code",
   "execution_count": 5,
   "id": "00fea31b",
   "metadata": {},
   "outputs": [
    {
     "data": {
      "text/plain": [
       "1"
      ]
     },
     "execution_count": 5,
     "metadata": {},
     "output_type": "execute_result"
    }
   ],
   "source": [
    "my_list.index('jacob')"
   ]
  },
  {
   "cell_type": "markdown",
   "id": "6d9b14a0",
   "metadata": {},
   "source": [
    "Updating the my_list elements."
   ]
  },
  {
   "cell_type": "code",
   "execution_count": 6,
   "id": "5a1ad404",
   "metadata": {},
   "outputs": [
    {
     "name": "stdout",
     "output_type": "stream",
     "text": [
      "['ana Berg', 'hyna jacob', 'biden', 'jack', 'bismuth']\n"
     ]
    }
   ],
   "source": [
    "my_list[1] = 'hyna jacob'\n",
    "print(my_list)"
   ]
  },
  {
   "cell_type": "markdown",
   "id": "66bb39bb",
   "metadata": {},
   "source": [
    "my_list Methods"
   ]
  },
  {
   "cell_type": "markdown",
   "id": "43c87993",
   "metadata": {},
   "source": [
    "1. Append"
   ]
  },
  {
   "cell_type": "code",
   "execution_count": 7,
   "id": "fcef8c5d",
   "metadata": {},
   "outputs": [
    {
     "name": "stdout",
     "output_type": "stream",
     "text": [
      "['ana Berg', 'hyna jacob', 'biden', 'jack', 'bismuth', 'Dell']\n"
     ]
    },
    {
     "data": {
      "text/plain": [
       "1"
      ]
     },
     "execution_count": 7,
     "metadata": {},
     "output_type": "execute_result"
    }
   ],
   "source": [
    "my_list.append('Dell')\n",
    "print(my_list)\n",
    "\n",
    "\n",
    "my_list.count('Dell')\n",
    "\n"
   ]
  },
  {
   "cell_type": "markdown",
   "id": "da7c6da0",
   "metadata": {},
   "source": [
    " 2. Insert."
   ]
  },
  {
   "cell_type": "code",
   "execution_count": 8,
   "id": "a320419d",
   "metadata": {},
   "outputs": [
    {
     "name": "stdout",
     "output_type": "stream",
     "text": [
      "['ana Berg', 'hyna jacob', 'biden', 'jack', 'maria', 'bismuth', 'Dell']\n"
     ]
    }
   ],
   "source": [
    "my_list.insert(4,\"maria\")\n",
    "print(my_list)"
   ]
  },
  {
   "cell_type": "markdown",
   "id": "779c9755",
   "metadata": {},
   "source": [
    "3. Remove"
   ]
  },
  {
   "cell_type": "code",
   "execution_count": 9,
   "id": "1d21e788",
   "metadata": {},
   "outputs": [
    {
     "name": "stdout",
     "output_type": "stream",
     "text": [
      "['ana Berg', 'hyna jacob', 'biden', 'jack', 'maria', 'bismuth']\n"
     ]
    }
   ],
   "source": [
    "\n",
    "my_list.remove('Dell')\n",
    "print(my_list)"
   ]
  },
  {
   "cell_type": "code",
   "execution_count": 10,
   "id": "9ced01ad",
   "metadata": {},
   "outputs": [
    {
     "name": "stdout",
     "output_type": "stream",
     "text": [
      "['ana Berg', 'hyna jacob', 'biden', 'jack', 'maria']\n"
     ]
    }
   ],
   "source": [
    "my_list.pop(5)\n",
    "print(my_list)"
   ]
  },
  {
   "cell_type": "code",
   "execution_count": 11,
   "id": "6839ef37",
   "metadata": {},
   "outputs": [
    {
     "name": "stdout",
     "output_type": "stream",
     "text": [
      "['ana Berg', 'biden', 'hyna jacob', 'jack', 'maria']\n"
     ]
    }
   ],
   "source": [
    "\n",
    "my_list.sort()\n",
    "print(my_list)"
   ]
  },
  {
   "cell_type": "code",
   "execution_count": 12,
   "id": "1ee8ed4e",
   "metadata": {},
   "outputs": [
    {
     "name": "stdout",
     "output_type": "stream",
     "text": [
      "0 ana Berg\n",
      "1 biden\n",
      "2 hyna jacob\n",
      "3 jack\n",
      "4 maria\n"
     ]
    }
   ],
   "source": [
    "for index,my_list in enumerate(my_list):\n",
    "    print(index,my_list)"
   ]
  },
  {
   "cell_type": "markdown",
   "id": "e74d0804",
   "metadata": {},
   "source": [
    "List Comprehension"
   ]
  },
  {
   "cell_type": "markdown",
   "id": "4ea7330e",
   "metadata": {},
   "source": [
    "1. Basic Syntax\n",
    "         [expresion for item in iterable]\n",
    "\n",
    "2. Nestesd list comprehension [expression for item1 in iterable1 for item2 in iterable2]"
   ]
  },
  {
   "cell_type": "code",
   "execution_count": 13,
   "id": "64595eba",
   "metadata": {},
   "outputs": [
    {
     "name": "stdout",
     "output_type": "stream",
     "text": [
      "[1, 4, 9, 16, 25, 36, 49, 64, 81]\n"
     ]
    }
   ],
   "source": [
    "lst = []\n",
    "for x in range(1,10):\n",
    "    lst.append(x**2)\n",
    "\n",
    "print(lst)"
   ]
  },
  {
   "cell_type": "code",
   "execution_count": 14,
   "id": "4e2d724b",
   "metadata": {},
   "outputs": [
    {
     "data": {
      "text/plain": [
       "[1, 2, 5, 10, 17, 26, 37, 50, 65, 82]"
      ]
     },
     "execution_count": 14,
     "metadata": {},
     "output_type": "execute_result"
    }
   ],
   "source": [
    "\n",
    "[(x**2)+1 for x in range(10)]"
   ]
  },
  {
   "cell_type": "code",
   "execution_count": 15,
   "id": "94202fab",
   "metadata": {},
   "outputs": [
    {
     "name": "stdout",
     "output_type": "stream",
     "text": [
      "[0, 4, 16, 36, 64]\n"
     ]
    }
   ],
   "source": [
    "list1 = [x**2 for x in range(0,10) if x % 2 ==0]\n",
    "print(list1)"
   ]
  },
  {
   "cell_type": "code",
   "execution_count": 16,
   "id": "c5106d28",
   "metadata": {},
   "outputs": [
    {
     "name": "stdout",
     "output_type": "stream",
     "text": [
      "[[1, 'a'], [1, 'b'], [1, 'c'], [1, 'd'], [2, 'a'], [2, 'b'], [2, 'c'], [2, 'd'], [3, 'a'], [3, 'b'], [3, 'c'], [3, 'd'], [4, 'a'], [4, 'b'], [4, 'c'], [4, 'd']]\n"
     ]
    }
   ],
   "source": [
    "list1  = [1, 2, 3, 4]\n",
    "list2  = ['a', 'b', 'c' ,'d']\n",
    "\n",
    "pair = [[i, j] for i in list1 for j in list2]\n",
    "\n",
    "print(pair)"
   ]
  },
  {
   "cell_type": "code",
   "execution_count": 17,
   "id": "d043b202",
   "metadata": {},
   "outputs": [
    {
     "name": "stdout",
     "output_type": "stream",
     "text": [
      "[5, 5, 6, 4, 13]\n"
     ]
    }
   ],
   "source": [
    "k = ['hello','world','python','list','comprehension']\n",
    "lengths = [len(i) for i in k]\n",
    "print(lengths)"
   ]
  },
  {
   "cell_type": "code",
   "execution_count": null,
   "id": "b2089fbe",
   "metadata": {},
   "outputs": [],
   "source": []
  }
 ],
 "metadata": {
  "kernelspec": {
   "display_name": "base",
   "language": "python",
   "name": "python3"
  },
  "language_info": {
   "codemirror_mode": {
    "name": "ipython",
    "version": 3
   },
   "file_extension": ".py",
   "mimetype": "text/x-python",
   "name": "python",
   "nbconvert_exporter": "python",
   "pygments_lexer": "ipython3",
   "version": "3.12.7"
  }
 },
 "nbformat": 4,
 "nbformat_minor": 5
}

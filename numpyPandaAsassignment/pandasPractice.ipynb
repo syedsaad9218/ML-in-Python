{
 "cells": [
  {
   "cell_type": "markdown",
   "id": "8e894098",
   "metadata": {},
   "source": [
    " Create a Pandas DataFrame with 4 columns and 6 rows filled with random integers. Set the index to be the first column."
   ]
  },
  {
   "cell_type": "code",
   "execution_count": 2,
   "id": "43750fe6",
   "metadata": {},
   "outputs": [],
   "source": [
    "import pandas as pd\n",
    "import numpy as np"
   ]
  },
  {
   "cell_type": "code",
   "execution_count": 3,
   "id": "9e14fc44",
   "metadata": {},
   "outputs": [
    {
     "data": {
      "text/html": [
       "<div>\n",
       "<style scoped>\n",
       "    .dataframe tbody tr th:only-of-type {\n",
       "        vertical-align: middle;\n",
       "    }\n",
       "\n",
       "    .dataframe tbody tr th {\n",
       "        vertical-align: top;\n",
       "    }\n",
       "\n",
       "    .dataframe thead th {\n",
       "        text-align: right;\n",
       "    }\n",
       "</style>\n",
       "<table border=\"1\" class=\"dataframe\">\n",
       "  <thead>\n",
       "    <tr style=\"text-align: right;\">\n",
       "      <th></th>\n",
       "      <th>Math</th>\n",
       "      <th>Science</th>\n",
       "      <th>English</th>\n",
       "    </tr>\n",
       "    <tr>\n",
       "      <th>ID</th>\n",
       "      <th></th>\n",
       "      <th></th>\n",
       "      <th></th>\n",
       "    </tr>\n",
       "  </thead>\n",
       "  <tbody>\n",
       "    <tr>\n",
       "      <th>35</th>\n",
       "      <td>49</td>\n",
       "      <td>11</td>\n",
       "      <td>36</td>\n",
       "    </tr>\n",
       "    <tr>\n",
       "      <th>84</th>\n",
       "      <td>61</td>\n",
       "      <td>25</td>\n",
       "      <td>17</td>\n",
       "    </tr>\n",
       "    <tr>\n",
       "      <th>57</th>\n",
       "      <td>60</td>\n",
       "      <td>94</td>\n",
       "      <td>86</td>\n",
       "    </tr>\n",
       "    <tr>\n",
       "      <th>92</th>\n",
       "      <td>17</td>\n",
       "      <td>2</td>\n",
       "      <td>87</td>\n",
       "    </tr>\n",
       "    <tr>\n",
       "      <th>53</th>\n",
       "      <td>70</td>\n",
       "      <td>59</td>\n",
       "      <td>32</td>\n",
       "    </tr>\n",
       "    <tr>\n",
       "      <th>54</th>\n",
       "      <td>9</td>\n",
       "      <td>19</td>\n",
       "      <td>96</td>\n",
       "    </tr>\n",
       "  </tbody>\n",
       "</table>\n",
       "</div>"
      ],
      "text/plain": [
       "    Math  Science  English\n",
       "ID                        \n",
       "35    49       11       36\n",
       "84    61       25       17\n",
       "57    60       94       86\n",
       "92    17        2       87\n",
       "53    70       59       32\n",
       "54     9       19       96"
      ]
     },
     "execution_count": 3,
     "metadata": {},
     "output_type": "execute_result"
    }
   ],
   "source": [
    "data = np.random.randint(1,100, (6,4))\n",
    "\n",
    "df = pd.DataFrame(data, columns=['ID', 'Math', 'Science', 'English'])\n",
    "\n",
    "df.set_index('ID', inplace=True)\n",
    "\n",
    "df"
   ]
  },
  {
   "cell_type": "markdown",
   "id": "236e3b05",
   "metadata": {},
   "source": [
    "Create a Pandas DataFrame with columns 'A', 'B', 'C' and index 'X', 'Y', 'Z'. Fill the DataFrame with random integers and access the element at row 'Y' and column 'B'."
   ]
  },
  {
   "cell_type": "code",
   "execution_count": 4,
   "id": "8078f126",
   "metadata": {},
   "outputs": [
    {
     "name": "stdout",
     "output_type": "stream",
     "text": [
      "    A   B   C\n",
      "X  17  57  20\n",
      "Y  95  51  89\n",
      "Z  18  47  39\n",
      "\n",
      " 51\n"
     ]
    }
   ],
   "source": [
    "data1 = np.random.randint(1,100, (3,3))\n",
    "\n",
    "df1 = pd.DataFrame(data1, columns=['A', 'B', 'C',], index=['X', 'Y', 'Z'])\n",
    "\n",
    "print(df1)\n",
    "\n",
    "print(\"\\n\", df1.at['Y', 'B'])"
   ]
  },
  {
   "cell_type": "markdown",
   "id": "5160b9e5",
   "metadata": {},
   "source": [
    "Create a Pandas DataFrame with 3 columns and 5 rows filled with random integers. Add a new column that is the product of the first two columns."
   ]
  },
  {
   "cell_type": "code",
   "execution_count": 5,
   "id": "52d9bb6a",
   "metadata": {},
   "outputs": [
    {
     "data": {
      "text/html": [
       "<div>\n",
       "<style scoped>\n",
       "    .dataframe tbody tr th:only-of-type {\n",
       "        vertical-align: middle;\n",
       "    }\n",
       "\n",
       "    .dataframe tbody tr th {\n",
       "        vertical-align: top;\n",
       "    }\n",
       "\n",
       "    .dataframe thead th {\n",
       "        text-align: right;\n",
       "    }\n",
       "</style>\n",
       "<table border=\"1\" class=\"dataframe\">\n",
       "  <thead>\n",
       "    <tr style=\"text-align: right;\">\n",
       "      <th></th>\n",
       "      <th>A</th>\n",
       "      <th>B</th>\n",
       "      <th>C</th>\n",
       "      <th>Product</th>\n",
       "    </tr>\n",
       "  </thead>\n",
       "  <tbody>\n",
       "    <tr>\n",
       "      <th>0</th>\n",
       "      <td>57</td>\n",
       "      <td>46</td>\n",
       "      <td>76</td>\n",
       "      <td>2622</td>\n",
       "    </tr>\n",
       "    <tr>\n",
       "      <th>1</th>\n",
       "      <td>44</td>\n",
       "      <td>48</td>\n",
       "      <td>86</td>\n",
       "      <td>2112</td>\n",
       "    </tr>\n",
       "    <tr>\n",
       "      <th>2</th>\n",
       "      <td>39</td>\n",
       "      <td>79</td>\n",
       "      <td>28</td>\n",
       "      <td>3081</td>\n",
       "    </tr>\n",
       "    <tr>\n",
       "      <th>3</th>\n",
       "      <td>32</td>\n",
       "      <td>23</td>\n",
       "      <td>48</td>\n",
       "      <td>736</td>\n",
       "    </tr>\n",
       "    <tr>\n",
       "      <th>4</th>\n",
       "      <td>94</td>\n",
       "      <td>22</td>\n",
       "      <td>75</td>\n",
       "      <td>2068</td>\n",
       "    </tr>\n",
       "  </tbody>\n",
       "</table>\n",
       "</div>"
      ],
      "text/plain": [
       "    A   B   C  Product\n",
       "0  57  46  76     2622\n",
       "1  44  48  86     2112\n",
       "2  39  79  28     3081\n",
       "3  32  23  48      736\n",
       "4  94  22  75     2068"
      ]
     },
     "execution_count": 5,
     "metadata": {},
     "output_type": "execute_result"
    }
   ],
   "source": [
    "data2 = np.random.randint(1,100, (5,3))\n",
    "\n",
    "df2 = pd.DataFrame(data2, columns=['A','B','C'])\n",
    "\n",
    "df2['Product'] = df2['A'] * df2['B']\n",
    "\n",
    "df2"
   ]
  },
  {
   "cell_type": "markdown",
   "id": "6f753a19",
   "metadata": {},
   "source": [
    "Create a Pandas DataFrame with 3 columns and 4 rows filled with random integers. Compute the row-wise and column-wise sum."
   ]
  },
  {
   "cell_type": "code",
   "execution_count": 6,
   "id": "83431205",
   "metadata": {},
   "outputs": [
    {
     "name": "stdout",
     "output_type": "stream",
     "text": [
      "    0   1   2\n",
      "0  80  18  47\n",
      "1  90  61  33\n",
      "2  11  36   5\n",
      "3  78  76  99\n",
      "\n",
      " 0    145\n",
      "1    184\n",
      "2     52\n",
      "3    253\n",
      "dtype: int64\n",
      "\n",
      " 0    259\n",
      "1    191\n",
      "2    184\n",
      "dtype: int64\n"
     ]
    }
   ],
   "source": [
    "data3 = np.random.randint(1,100, (4,3))\n",
    "\n",
    "df3 = pd.DataFrame(data3)\n",
    "\n",
    "print(df3)\n",
    "\n",
    "row_sum = df3.sum(axis=1)\n",
    "col_sum = df3.sum(axis=0)\n",
    "\n",
    "print(\"\\n\", row_sum)\n",
    "print(\"\\n\", col_sum)"
   ]
  },
  {
   "cell_type": "markdown",
   "id": "c9eb498c",
   "metadata": {},
   "source": [
    "Create a Pandas DataFrame with 3 columns and 5 rows filled with random integers. Introduce some NaN values. Fill the NaN values with the mean of the respective columns."
   ]
  },
  {
   "cell_type": "code",
   "execution_count": 7,
   "id": "28e06224",
   "metadata": {},
   "outputs": [
    {
     "name": "stdout",
     "output_type": "stream",
     "text": [
      "      A     B     C\n",
      "0  41.0  90.0  88.0\n",
      "1   NaN  89.0  66.0\n",
      "2  57.0  12.0  64.0\n",
      "3  54.0  81.0   NaN\n",
      "4  93.0   NaN  51.0\n",
      "       A     B      C\n",
      "0  41.00  90.0  88.00\n",
      "1  61.25  89.0  66.00\n",
      "2  57.00  12.0  64.00\n",
      "3  54.00  81.0  67.25\n",
      "4  93.00  68.0  51.00\n"
     ]
    }
   ],
   "source": [
    "import pandas as pd\n",
    "import numpy as np\n",
    "\n",
    "# Step 1: Create a 5x3 DataFrame with random integers\n",
    "df = pd.DataFrame(np.random.randint(1, 100, (5, 3)), columns=['A', 'B', 'C'])\n",
    "\n",
    "# Step 2: Introduce NaN values manually\n",
    "df.iloc[1, 0] = np.nan  # Set row 1, column 'A' to NaN\n",
    "df.iloc[3, 2] = np.nan  # Set row 3, column 'C' to NaN\n",
    "df.iloc[4, 1] = np.nan  # Set row 4, column 'B' to NaN\n",
    "\n",
    "print(df)\n",
    "# Step 3: Display the DataFrame\n",
    "fill_nan = df.fillna(df.mean())\n",
    "\n",
    "print(fill_nan)"
   ]
  },
  {
   "cell_type": "markdown",
   "id": "d6ab0f75",
   "metadata": {},
   "source": [
    "Create a Pandas DataFrame with 4 columns and 6 rows filled with random integers. Introduce some NaN values. Drop the rows with any NaN values."
   ]
  },
  {
   "cell_type": "code",
   "execution_count": 8,
   "id": "146be12a",
   "metadata": {},
   "outputs": [
    {
     "name": "stdout",
     "output_type": "stream",
     "text": [
      "      0     1     2   3\n",
      "0  67.0  99.0  17.0  74\n",
      "1   NaN  96.0   6.0  95\n",
      "2  35.0  28.0  26.0  67\n",
      "3   1.0  19.0   NaN  46\n",
      "4  94.0   NaN  18.0   7\n",
      "5  51.0  95.0  33.0  97\n",
      "\n",
      "       0     1     2   3\n",
      "0  67.0  99.0  17.0  74\n",
      "2  35.0  28.0  26.0  67\n",
      "5  51.0  95.0  33.0  97\n"
     ]
    }
   ],
   "source": [
    "df = pd.DataFrame(np.random.randint(1, 100, (6, 4)))\n",
    "\n",
    "df.iloc[1, 0] = np.nan  # Set row 1, column 'A' to NaN\n",
    "df.iloc[3, 2] = np.nan  # Set row 3, column 'C' to NaN\n",
    "df.iloc[4, 1] = np.nan  # Set row 4, column 'B' to NaN\n",
    "\n",
    "print(df)\n",
    "\n",
    "drop_nan = df.dropna()\n",
    "\n",
    "print(\"\\n\", drop_nan)\n"
   ]
  },
  {
   "cell_type": "markdown",
   "id": "663f6638",
   "metadata": {},
   "source": [
    "Create a Pandas DataFrame with 2 columns: 'Category' and 'Value'. Fill the 'Category' column with random categories ('A', 'B', 'C') and the 'Value' column with random integers. Group the DataFrame by 'Category' and compute the sum and mean of 'Value' for each category."
   ]
  },
  {
   "cell_type": "code",
   "execution_count": 9,
   "id": "da0e26d2",
   "metadata": {},
   "outputs": [
    {
     "name": "stdout",
     "output_type": "stream",
     "text": [
      "  Category  Value\n",
      "0        A     22\n",
      "1        B     68\n",
      "2        A     75\n",
      "3        B     49\n",
      "4        B     97\n",
      "5        C     56\n",
      "6        A     98\n",
      "7        C     91\n",
      "8        A     47\n",
      "9        A     35\n",
      "\n",
      "           sum       mean\n",
      "Category                \n",
      "A         277  55.400000\n",
      "B         214  71.333333\n",
      "C         147  73.500000\n"
     ]
    }
   ],
   "source": [
    "np.random.seed(0)\n",
    "categories = np.random.choice(['A', 'B', 'C'], size=10)\n",
    "values = np.random.randint(10, 100, size=10)\n",
    "\n",
    "df = pd.DataFrame({\n",
    "    'Category': categories,\n",
    "    'Value': values\n",
    "})\n",
    "\n",
    "print(df)\n",
    "\n",
    "grouped = df.groupby('Category')['Value'].agg(['sum', 'mean'])\n",
    "print(\"\\n\", grouped)"
   ]
  },
  {
   "cell_type": "markdown",
   "id": "d855b2c0",
   "metadata": {},
   "source": [
    "Create a Pandas DataFrame with 3 columns: 'Product', 'Category', and 'Sales'. Fill the DataFrame with random data. Group the DataFrame by 'Category' and compute the total sales for each category."
   ]
  },
  {
   "cell_type": "code",
   "execution_count": 10,
   "id": "fda2f8fc",
   "metadata": {},
   "outputs": [
    {
     "name": "stdout",
     "output_type": "stream",
     "text": [
      "Original DataFrame:\n",
      "  Product     Category  Sales\n",
      "0      P1     Clothing    683\n",
      "1      P2  Electronics    849\n",
      "2      P3  Electronics    608\n",
      "3      P4     Clothing    490\n",
      "4      P5     Clothing    381\n",
      "5      P6  Electronics    278\n",
      "6      P7  Electronics    376\n",
      "7      P8     Clothing    354\n",
      "\n",
      "Total Sales by Category:\n",
      "Category\n",
      "Clothing       1908\n",
      "Electronics    2111\n",
      "Name: Sales, dtype: int32\n"
     ]
    }
   ],
   "source": [
    "import pandas as pd\n",
    "import numpy as np\n",
    "\n",
    "# Step 1: Random seed for reproducibility\n",
    "np.random.seed(1)\n",
    "\n",
    "# Step 2: Create sample data\n",
    "products = ['P1', 'P2', 'P3', 'P4', 'P5', 'P6', 'P7', 'P8']\n",
    "categories = np.random.choice(['Electronics', 'Clothing', 'Books'], size=8)\n",
    "sales = np.random.randint(100, 1000, size=8)\n",
    "\n",
    "# Step 3: Create DataFrame\n",
    "df = pd.DataFrame({\n",
    "    'Product': products,\n",
    "    'Category': categories,\n",
    "    'Sales': sales\n",
    "})\n",
    "\n",
    "print(\"Original DataFrame:\")\n",
    "print(df)\n",
    "\n",
    "# Step 4: Group by 'Category' and calculate total sales\n",
    "total_sales = df.groupby('Category')['Sales'].sum()\n",
    "\n",
    "print(\"\\nTotal Sales by Category:\")\n",
    "print(total_sales)\n"
   ]
  },
  {
   "cell_type": "markdown",
   "id": "15432df4",
   "metadata": {},
   "source": [
    "Create two Pandas DataFrames with a common column. Merge the DataFrames using the common column."
   ]
  },
  {
   "cell_type": "code",
   "execution_count": 11,
   "id": "c702b405",
   "metadata": {},
   "outputs": [
    {
     "name": "stdout",
     "output_type": "stream",
     "text": [
      "DataFrame 1:\n",
      "   ID     Name\n",
      "0   1    Alice\n",
      "1   2      Bob\n",
      "2   3  Charlie\n",
      "3   4    David\n",
      "\n",
      "DataFrame 2:\n",
      "   ID  Salary\n",
      "0   2   50000\n",
      "1   3   60000\n",
      "2   4   55000\n",
      "3   5   45000\n",
      "\n",
      "    ID     Name  Salary\n",
      "0   2      Bob   50000\n",
      "1   3  Charlie   60000\n",
      "2   4    David   55000\n"
     ]
    }
   ],
   "source": [
    "\n",
    "# First DataFrame: Employee Info\n",
    "df1 = pd.DataFrame({\n",
    "    'ID': [1, 2, 3, 4],\n",
    "    'Name': ['Alice', 'Bob', 'Charlie', 'David']\n",
    "})\n",
    "\n",
    "# Second DataFrame: Employee Salary\n",
    "df2 = pd.DataFrame({\n",
    "    'ID': [2, 3, 4, 5],\n",
    "    'Salary': [50000, 60000, 55000, 45000]\n",
    "})\n",
    "\n",
    "print(\"DataFrame 1:\")\n",
    "print(df1)\n",
    "\n",
    "print(\"\\nDataFrame 2:\")\n",
    "print(df2)\n",
    "\n",
    "merge = pd.merge(df1, df2, on='ID', how='inner')\n",
    "print(\"\\n\",merge)\n"
   ]
  },
  {
   "cell_type": "markdown",
   "id": "8c7ae639",
   "metadata": {},
   "source": [
    "Create two Pandas DataFrames with different columns. Concatenate the DataFrames along the rows and along the columns."
   ]
  },
  {
   "cell_type": "code",
   "execution_count": 12,
   "id": "39dd3f4b",
   "metadata": {},
   "outputs": [
    {
     "data": {
      "text/html": [
       "<div>\n",
       "<style scoped>\n",
       "    .dataframe tbody tr th:only-of-type {\n",
       "        vertical-align: middle;\n",
       "    }\n",
       "\n",
       "    .dataframe tbody tr th {\n",
       "        vertical-align: top;\n",
       "    }\n",
       "\n",
       "    .dataframe thead th {\n",
       "        text-align: right;\n",
       "    }\n",
       "</style>\n",
       "<table border=\"1\" class=\"dataframe\">\n",
       "  <thead>\n",
       "    <tr style=\"text-align: right;\">\n",
       "      <th></th>\n",
       "      <th>0</th>\n",
       "      <th>1</th>\n",
       "      <th>2</th>\n",
       "      <th>3</th>\n",
       "    </tr>\n",
       "  </thead>\n",
       "  <tbody>\n",
       "    <tr>\n",
       "      <th>0</th>\n",
       "      <td>1</td>\n",
       "      <td>Alice</td>\n",
       "      <td>101</td>\n",
       "      <td>HR</td>\n",
       "    </tr>\n",
       "    <tr>\n",
       "      <th>1</th>\n",
       "      <td>2</td>\n",
       "      <td>Bob</td>\n",
       "      <td>102</td>\n",
       "      <td>IT</td>\n",
       "    </tr>\n",
       "    <tr>\n",
       "      <th>2</th>\n",
       "      <td>3</td>\n",
       "      <td>Charlie</td>\n",
       "      <td>103</td>\n",
       "      <td>Finance</td>\n",
       "    </tr>\n",
       "  </tbody>\n",
       "</table>\n",
       "</div>"
      ],
      "text/plain": [
       "   0        1    2        3\n",
       "0  1    Alice  101       HR\n",
       "1  2      Bob  102       IT\n",
       "2  3  Charlie  103  Finance"
      ]
     },
     "execution_count": 12,
     "metadata": {},
     "output_type": "execute_result"
    }
   ],
   "source": [
    "df1 = pd.DataFrame({\n",
    "    'Emp_ID': [1, 2, 3],\n",
    "    'Name': ['Alice', 'Bob', 'Charlie']\n",
    "})\n",
    "\n",
    "# Second DataFrame: Department Info\n",
    "df2 = pd.DataFrame({\n",
    "    'Dept_ID': [101, 102, 103],\n",
    "    'Department': ['HR', 'IT', 'Finance']\n",
    "})\n",
    "\n",
    "Concatenate = pd.concat([df1, df2], axis=1, ignore_index=True)\n",
    "Concatenate"
   ]
  },
  {
   "cell_type": "markdown",
   "id": "ab0f5eda",
   "metadata": {},
   "source": [
    "Create a Pandas DataFrame with a datetime index and one column filled with random integers. Resample the DataFrame to compute the monthly mean of the values."
   ]
  },
  {
   "cell_type": "code",
   "execution_count": 13,
   "id": "e838d9db",
   "metadata": {},
   "outputs": [
    {
     "name": "stderr",
     "output_type": "stream",
     "text": [
      "C:\\Users\\HP\\AppData\\Local\\Temp\\ipykernel_2448\\4128317033.py:5: FutureWarning: 'M' is deprecated and will be removed in a future version, please use 'ME' instead.\n",
      "  monthly_mean =  df.resample('M').mean()\n"
     ]
    },
    {
     "data": {
      "text/html": [
       "<div>\n",
       "<style scoped>\n",
       "    .dataframe tbody tr th:only-of-type {\n",
       "        vertical-align: middle;\n",
       "    }\n",
       "\n",
       "    .dataframe tbody tr th {\n",
       "        vertical-align: top;\n",
       "    }\n",
       "\n",
       "    .dataframe thead th {\n",
       "        text-align: right;\n",
       "    }\n",
       "</style>\n",
       "<table border=\"1\" class=\"dataframe\">\n",
       "  <thead>\n",
       "    <tr style=\"text-align: right;\">\n",
       "      <th></th>\n",
       "      <th>Value</th>\n",
       "    </tr>\n",
       "  </thead>\n",
       "  <tbody>\n",
       "    <tr>\n",
       "      <th>2024-01-31</th>\n",
       "      <td>48.6</td>\n",
       "    </tr>\n",
       "  </tbody>\n",
       "</table>\n",
       "</div>"
      ],
      "text/plain": [
       "            Value\n",
       "2024-01-31   48.6"
      ]
     },
     "execution_count": 13,
     "metadata": {},
     "output_type": "execute_result"
    }
   ],
   "source": [
    "date_range = pd.date_range(start='2024-01-01', periods=10, freq='D')\n",
    "df = pd.DataFrame({\n",
    "    'Value' : np.random.randint(1,100, size=10)\n",
    "}, index= date_range)\n",
    "monthly_mean =  df.resample('M').mean()\n",
    "monthly_mean"
   ]
  },
  {
   "cell_type": "markdown",
   "id": "a55ec42a",
   "metadata": {},
   "source": [
    "Create a Pandas DataFrame with a datetime index ranging from '2021-01-01' to '2021-12-31' and one column filled with random integers. Compute the rolling mean with a window of 7 days."
   ]
  },
  {
   "cell_type": "code",
   "execution_count": 14,
   "id": "1c16ed67",
   "metadata": {},
   "outputs": [
    {
     "data": {
      "text/html": [
       "<div>\n",
       "<style scoped>\n",
       "    .dataframe tbody tr th:only-of-type {\n",
       "        vertical-align: middle;\n",
       "    }\n",
       "\n",
       "    .dataframe tbody tr th {\n",
       "        vertical-align: top;\n",
       "    }\n",
       "\n",
       "    .dataframe thead th {\n",
       "        text-align: right;\n",
       "    }\n",
       "</style>\n",
       "<table border=\"1\" class=\"dataframe\">\n",
       "  <thead>\n",
       "    <tr style=\"text-align: right;\">\n",
       "      <th></th>\n",
       "      <th>numbers</th>\n",
       "    </tr>\n",
       "  </thead>\n",
       "  <tbody>\n",
       "    <tr>\n",
       "      <th>2024-01-01</th>\n",
       "      <td>NaN</td>\n",
       "    </tr>\n",
       "    <tr>\n",
       "      <th>2024-01-02</th>\n",
       "      <td>NaN</td>\n",
       "    </tr>\n",
       "    <tr>\n",
       "      <th>2024-01-03</th>\n",
       "      <td>NaN</td>\n",
       "    </tr>\n",
       "    <tr>\n",
       "      <th>2024-01-04</th>\n",
       "      <td>NaN</td>\n",
       "    </tr>\n",
       "    <tr>\n",
       "      <th>2024-01-05</th>\n",
       "      <td>NaN</td>\n",
       "    </tr>\n",
       "    <tr>\n",
       "      <th>2024-01-06</th>\n",
       "      <td>NaN</td>\n",
       "    </tr>\n",
       "    <tr>\n",
       "      <th>2024-01-07</th>\n",
       "      <td>53.571429</td>\n",
       "    </tr>\n",
       "    <tr>\n",
       "      <th>2024-01-08</th>\n",
       "      <td>48.857143</td>\n",
       "    </tr>\n",
       "  </tbody>\n",
       "</table>\n",
       "</div>"
      ],
      "text/plain": [
       "              numbers\n",
       "2024-01-01        NaN\n",
       "2024-01-02        NaN\n",
       "2024-01-03        NaN\n",
       "2024-01-04        NaN\n",
       "2024-01-05        NaN\n",
       "2024-01-06        NaN\n",
       "2024-01-07  53.571429\n",
       "2024-01-08  48.857143"
      ]
     },
     "execution_count": 14,
     "metadata": {},
     "output_type": "execute_result"
    }
   ],
   "source": [
    "date_range = pd.date_range(start='2024-01-01', periods=30, freq='D',)\n",
    "df = pd.DataFrame({\n",
    "    'numbers' : np.random.randint(1,100, size=30)\n",
    "}, index=date_range)\n",
    "mean_of_7days = df.rolling(window=7).mean()\n",
    "mean_of_7days.head(8)"
   ]
  },
  {
   "cell_type": "markdown",
   "id": "d6441447",
   "metadata": {},
   "source": [
    "Create a Pandas DataFrame with a MultiIndex (hierarchical index). Perform some basic indexing and slicing operations on the MultiIndex DataFrame."
   ]
  },
  {
   "cell_type": "code",
   "execution_count": null,
   "id": "a18c7402",
   "metadata": {},
   "outputs": [
    {
     "data": {
      "text/html": [
       "<div>\n",
       "<style scoped>\n",
       "    .dataframe tbody tr th:only-of-type {\n",
       "        vertical-align: middle;\n",
       "    }\n",
       "\n",
       "    .dataframe tbody tr th {\n",
       "        vertical-align: top;\n",
       "    }\n",
       "\n",
       "    .dataframe thead th {\n",
       "        text-align: right;\n",
       "    }\n",
       "</style>\n",
       "<table border=\"1\" class=\"dataframe\">\n",
       "  <thead>\n",
       "    <tr style=\"text-align: right;\">\n",
       "      <th></th>\n",
       "      <th></th>\n",
       "      <th>Quantity</th>\n",
       "      <th>Price</th>\n",
       "    </tr>\n",
       "    <tr>\n",
       "      <th>Store</th>\n",
       "      <th>Fruit</th>\n",
       "      <th></th>\n",
       "      <th></th>\n",
       "    </tr>\n",
       "  </thead>\n",
       "  <tbody>\n",
       "    <tr>\n",
       "      <th rowspan=\"3\" valign=\"top\">Store1</th>\n",
       "      <th>Apples</th>\n",
       "      <td>37</td>\n",
       "      <td>8</td>\n",
       "    </tr>\n",
       "    <tr>\n",
       "      <th>Bananas</th>\n",
       "      <td>53</td>\n",
       "      <td>1</td>\n",
       "    </tr>\n",
       "    <tr>\n",
       "      <th>Cherries</th>\n",
       "      <td>11</td>\n",
       "      <td>7</td>\n",
       "    </tr>\n",
       "    <tr>\n",
       "      <th rowspan=\"3\" valign=\"top\">Store2</th>\n",
       "      <th>Apples</th>\n",
       "      <td>92</td>\n",
       "      <td>3</td>\n",
       "    </tr>\n",
       "    <tr>\n",
       "      <th>Bananas</th>\n",
       "      <td>36</td>\n",
       "      <td>5</td>\n",
       "    </tr>\n",
       "    <tr>\n",
       "      <th>Cherries</th>\n",
       "      <td>94</td>\n",
       "      <td>4</td>\n",
       "    </tr>\n",
       "  </tbody>\n",
       "</table>\n",
       "</div>"
      ],
      "text/plain": [
       "                 Quantity  Price\n",
       "Store  Fruit                    \n",
       "Store1 Apples          37      8\n",
       "       Bananas         53      1\n",
       "       Cherries        11      7\n",
       "Store2 Apples          92      3\n",
       "       Bananas         36      5\n",
       "       Cherries        94      4"
      ]
     },
     "execution_count": 33,
     "metadata": {},
     "output_type": "execute_result"
    }
   ],
   "source": [
    "arrays = [\n",
    "    ['Store1', 'Store1', 'Store1', 'Store2', 'Store2', 'Store2'],\n",
    "    ['Apples', 'Bananas', 'Cherries', 'Apples', 'Bananas', 'Cherries']\n",
    "]\n",
    "index = pd.MultiIndex.from_arrays(arrays, names=('Store', 'Fruit'))\n",
    "\n",
    "df = pd.DataFrame({\n",
    "    'Quantity': np.random.randint(10, 100, size=6),\n",
    "    'Price': np.random.randint(1, 10, size=6)\n",
    "}, index=index)\n",
    "\n"
   ]
  },
  {
   "cell_type": "markdown",
   "id": "58fc26d0",
   "metadata": {},
   "source": [
    "Create a Pandas DataFrame with MultiIndex consisting of 'Category' and 'SubCategory'. Fill the DataFrame with random data and compute the sum of values for each 'Category' and 'SubCategory'."
   ]
  },
  {
   "cell_type": "code",
   "execution_count": 5,
   "id": "27c740e9",
   "metadata": {},
   "outputs": [
    {
     "name": "stdout",
     "output_type": "stream",
     "text": [
      "Original DataFrame:\n",
      "\n",
      "                         Sales  Profit\n",
      "Category    SubCategory               \n",
      "Electronics Mobiles       7452     313\n",
      "            Laptops       8074     622\n",
      "Clothing    Shirts        3948     405\n",
      "            Jeans         5553     667\n",
      "Groceries   Fruits        8665     520\n",
      "            Vegetables    1709     951\n",
      "\n",
      "Sum by Category:\n",
      "\n",
      "             Sales  Profit\n",
      "Category                  \n",
      "Clothing      9501    1072\n",
      "Electronics  15526     935\n",
      "Groceries    10374    1471\n",
      "\n",
      "Sum by SubCategory:\n",
      "\n",
      "             Sales  Profit\n",
      "SubCategory               \n",
      "Fruits        8665     520\n",
      "Jeans         5553     667\n",
      "Laptops       8074     622\n",
      "Mobiles       7452     313\n",
      "Shirts        3948     405\n",
      "Vegetables    1709     951\n"
     ]
    }
   ],
   "source": [
    "arrays = [\n",
    "    ['Electronics', 'Electronics', 'Clothing', 'Clothing', 'Groceries', 'Groceries'],\n",
    "    ['Mobiles', 'Laptops', 'Shirts', 'Jeans', 'Fruits', 'Vegetables']\n",
    "]\n",
    "index = pd.MultiIndex.from_arrays(arrays, names=('Category', 'SubCategory'))\n",
    "\n",
    "# Create the DataFrame with random data\n",
    "df = pd.DataFrame({\n",
    "    'Sales': np.random.randint(1000, 10000, size=6),\n",
    "    'Profit': np.random.randint(100, 1000, size=6)\n",
    "}, index=index)\n",
    "\n",
    "print(\"Original DataFrame:\\n\")\n",
    "print(df)\n",
    "\n",
    "# Sum of values for each Category\n",
    "category_sum = df.groupby(level='Category').sum()\n",
    "print(\"\\nSum by Category:\\n\")\n",
    "print(category_sum)\n",
    "\n",
    "# Sum of values for each SubCategory\n",
    "subcategory_sum = df.groupby(level='SubCategory').sum()\n",
    "print(\"\\nSum by SubCategory:\\n\")\n",
    "print(subcategory_sum)"
   ]
  },
  {
   "cell_type": "markdown",
   "id": "0b9bf516",
   "metadata": {},
   "source": [
    "Create a Pandas DataFrame with columns 'Date', 'Category', and 'Value'. Create a pivot table to compute the sum of 'Value' for each 'Category' by 'Date'."
   ]
  },
  {
   "cell_type": "code",
   "execution_count": 12,
   "id": "8b8a8a5f",
   "metadata": {},
   "outputs": [
    {
     "data": {
      "text/html": [
       "<div>\n",
       "<style scoped>\n",
       "    .dataframe tbody tr th:only-of-type {\n",
       "        vertical-align: middle;\n",
       "    }\n",
       "\n",
       "    .dataframe tbody tr th {\n",
       "        vertical-align: top;\n",
       "    }\n",
       "\n",
       "    .dataframe thead th {\n",
       "        text-align: right;\n",
       "    }\n",
       "</style>\n",
       "<table border=\"1\" class=\"dataframe\">\n",
       "  <thead>\n",
       "    <tr style=\"text-align: right;\">\n",
       "      <th>Category</th>\n",
       "      <th>A</th>\n",
       "      <th>B</th>\n",
       "      <th>C</th>\n",
       "    </tr>\n",
       "    <tr>\n",
       "      <th>Date</th>\n",
       "      <th></th>\n",
       "      <th></th>\n",
       "      <th></th>\n",
       "    </tr>\n",
       "  </thead>\n",
       "  <tbody>\n",
       "    <tr>\n",
       "      <th>2021-01-01</th>\n",
       "      <td>637.0</td>\n",
       "      <td>NaN</td>\n",
       "      <td>NaN</td>\n",
       "    </tr>\n",
       "    <tr>\n",
       "      <th>2021-01-02</th>\n",
       "      <td>NaN</td>\n",
       "      <td>689.0</td>\n",
       "      <td>NaN</td>\n",
       "    </tr>\n",
       "    <tr>\n",
       "      <th>2021-01-03</th>\n",
       "      <td>NaN</td>\n",
       "      <td>NaN</td>\n",
       "      <td>558.0</td>\n",
       "    </tr>\n",
       "    <tr>\n",
       "      <th>2021-01-04</th>\n",
       "      <td>NaN</td>\n",
       "      <td>NaN</td>\n",
       "      <td>234.0</td>\n",
       "    </tr>\n",
       "    <tr>\n",
       "      <th>2021-01-05</th>\n",
       "      <td>NaN</td>\n",
       "      <td>653.0</td>\n",
       "      <td>NaN</td>\n",
       "    </tr>\n",
       "    <tr>\n",
       "      <th>2021-01-06</th>\n",
       "      <td>NaN</td>\n",
       "      <td>NaN</td>\n",
       "      <td>532.0</td>\n",
       "    </tr>\n",
       "    <tr>\n",
       "      <th>2021-01-07</th>\n",
       "      <td>NaN</td>\n",
       "      <td>NaN</td>\n",
       "      <td>499.0</td>\n",
       "    </tr>\n",
       "    <tr>\n",
       "      <th>2021-01-08</th>\n",
       "      <td>NaN</td>\n",
       "      <td>638.0</td>\n",
       "      <td>NaN</td>\n",
       "    </tr>\n",
       "    <tr>\n",
       "      <th>2021-01-09</th>\n",
       "      <td>NaN</td>\n",
       "      <td>NaN</td>\n",
       "      <td>256.0</td>\n",
       "    </tr>\n",
       "    <tr>\n",
       "      <th>2021-01-10</th>\n",
       "      <td>NaN</td>\n",
       "      <td>523.0</td>\n",
       "      <td>NaN</td>\n",
       "    </tr>\n",
       "  </tbody>\n",
       "</table>\n",
       "</div>"
      ],
      "text/plain": [
       "Category        A      B      C\n",
       "Date                           \n",
       "2021-01-01  637.0    NaN    NaN\n",
       "2021-01-02    NaN  689.0    NaN\n",
       "2021-01-03    NaN    NaN  558.0\n",
       "2021-01-04    NaN    NaN  234.0\n",
       "2021-01-05    NaN  653.0    NaN\n",
       "2021-01-06    NaN    NaN  532.0\n",
       "2021-01-07    NaN    NaN  499.0\n",
       "2021-01-08    NaN  638.0    NaN\n",
       "2021-01-09    NaN    NaN  256.0\n",
       "2021-01-10    NaN  523.0    NaN"
      ]
     },
     "execution_count": 12,
     "metadata": {},
     "output_type": "execute_result"
    }
   ],
   "source": [
    "data = {\n",
    "    'Date': pd.date_range(start='2021-01-01', periods=10, freq='D'),\n",
    "    'Category': np.random.choice(['A', 'B', 'C'], size=10),\n",
    "    'Value': np.random.randint(100, 1000, size=10)\n",
    "}\n",
    "\n",
    "df = pd.DataFrame(data)\n",
    "\n",
    "pivot_table = pd.pivot_table(df, values='Value', index='Date', columns='Category', aggfunc='sum')\n",
    "pivot_table"
   ]
  },
  {
   "cell_type": "markdown",
   "id": "91da3468",
   "metadata": {},
   "source": [
    "Create a Pandas DataFrame with columns 'Year', 'Quarter', and 'Revenue'. Create a pivot table to compute the mean 'Revenue' for each 'Quarter' by 'Year'."
   ]
  },
  {
   "cell_type": "code",
   "execution_count": null,
   "id": "89c5b0c5",
   "metadata": {},
   "outputs": [],
   "source": []
  }
 ],
 "metadata": {
  "kernelspec": {
   "display_name": "base",
   "language": "python",
   "name": "python3"
  },
  "language_info": {
   "codemirror_mode": {
    "name": "ipython",
    "version": 3
   },
   "file_extension": ".py",
   "mimetype": "text/x-python",
   "name": "python",
   "nbconvert_exporter": "python",
   "pygments_lexer": "ipython3",
   "version": "3.12.7"
  }
 },
 "nbformat": 4,
 "nbformat_minor": 5
}

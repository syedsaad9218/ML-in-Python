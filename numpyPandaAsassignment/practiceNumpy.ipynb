{
 "cells": [
  {
   "cell_type": "markdown",
   "metadata": {},
   "source": [
    "1. Create a NumPy array of shape (5, 5) filled with random integers between 1 and 20. Replace all the elements in the third column with 1."
   ]
  },
  {
   "cell_type": "code",
   "execution_count": 2,
   "metadata": {},
   "outputs": [],
   "source": [
    "import numpy as np"
   ]
  },
  {
   "cell_type": "code",
   "execution_count": 11,
   "metadata": {},
   "outputs": [
    {
     "data": {
      "text/plain": [
       "array([[20, 19,  1,  2, 10],\n",
       "       [ 4, 15,  1, 18, 20],\n",
       "       [ 8, 13,  1, 18,  3],\n",
       "       [ 7, 17,  1,  6,  5],\n",
       "       [ 5, 19,  1, 11, 15]])"
      ]
     },
     "execution_count": 11,
     "metadata": {},
     "output_type": "execute_result"
    }
   ],
   "source": [
    "import numpy as np\n",
    "\n",
    "arr1 = np.random.randint(1, 21, (5,5))\n",
    "\n",
    "arr1[:,2] = 1\n",
    "\n",
    "arr1"
   ]
  },
  {
   "cell_type": "markdown",
   "metadata": {},
   "source": [
    "Create a NumPy array of shape (4, 4) with values from 1 to 16. Replace the diagonal elements with 0."
   ]
  },
  {
   "cell_type": "code",
   "execution_count": 16,
   "metadata": {},
   "outputs": [
    {
     "data": {
      "text/plain": [
       "array([[ 0, 11,  4,  3],\n",
       "       [11,  0, 15, 14],\n",
       "       [16,  1,  0, 12],\n",
       "       [10, 10, 12,  0]])"
      ]
     },
     "execution_count": 16,
     "metadata": {},
     "output_type": "execute_result"
    }
   ],
   "source": [
    "import numpy as np\n",
    "\n",
    "arr2 = np.random.randint(1, 17, (4,4))\n",
    "\n",
    "np.fill_diagonal(arr2, 0)\n",
    "\n",
    "arr2"
   ]
  },
  {
   "cell_type": "markdown",
   "metadata": {},
   "source": [
    "Create a NumPy array of shape (6, 6) with values from 1 to 36. Extract the sub-array consisting of the 3rd to 5th rows and 2nd to 4th columns."
   ]
  },
  {
   "cell_type": "code",
   "execution_count": 31,
   "metadata": {},
   "outputs": [
    {
     "name": "stdout",
     "output_type": "stream",
     "text": [
      "[[ 1  2  3  4  5  6]\n",
      " [ 7  8  9 10 11 12]\n",
      " [13 14 15 16 17 18]\n",
      " [19 20 21 22 23 24]\n",
      " [25 26 27 28 29 30]\n",
      " [31 32 33 34 35 36]]\n",
      "\n",
      " [[14 15 16]\n",
      " [20 21 22]\n",
      " [26 27 28]]\n"
     ]
    }
   ],
   "source": [
    "arr3 = np.arange(1,37).reshape(6,6)\n",
    "\n",
    "sub_arr3 = arr3[2:5, 1:4]\n",
    "\n",
    "print(arr3)\n",
    "\n",
    "print(\"\\n\", sub_arr3)"
   ]
  },
  {
   "cell_type": "markdown",
   "metadata": {},
   "source": [
    "Create two NumPy arrays of shape (3, 4) filled with random integers. Perform element-wise addition, subtraction, multiplication, and division."
   ]
  },
  {
   "cell_type": "code",
   "execution_count": 12,
   "metadata": {},
   "outputs": [
    {
     "name": "stdout",
     "output_type": "stream",
     "text": [
      "[[4 4 6 6]\n",
      " [2 3 5 4]\n",
      " [4 3 5 2]]\n",
      "\n",
      " [[ 2  0  2  0]\n",
      " [ 0 -1  3  2]\n",
      " [-2  1 -3  0]]\n",
      "\n",
      " [[3 4 8 9]\n",
      " [1 2 4 3]\n",
      " [3 2 4 1]]\n",
      "\n",
      " [[3.         1.         2.         1.        ]\n",
      " [1.         0.5        4.         3.        ]\n",
      " [0.33333333 2.         0.25       1.        ]]\n"
     ]
    }
   ],
   "source": [
    "arr4_1 = np.random.randint(1,5, (3,4))\n",
    "arr4_2 = np.random.randint(1,5, (3,4))\n",
    "\n",
    "Addtion = arr4_1 + arr4_2\n",
    "Subration = arr4_1 - arr4_2\n",
    "Multiplication = arr4_1 * arr4_2\n",
    "division = np.divide(arr4_1, arr4_2)\n",
    "\n",
    "print(Addtion)\n",
    "print(\"\\n\", Subration)\n",
    "print(\"\\n\", Multiplication)\n",
    "print(\"\\n\", division)\n"
   ]
  },
  {
   "cell_type": "markdown",
   "metadata": {},
   "source": [
    "Create a NumPy array of shape (4, 4) with values from 1 to 16. Compute the row-wise and column-wise sum."
   ]
  },
  {
   "cell_type": "code",
   "execution_count": 21,
   "metadata": {},
   "outputs": [
    {
     "name": "stdout",
     "output_type": "stream",
     "text": [
      "[[ 6  8 10  2]\n",
      " [13 10  2  3]\n",
      " [ 8 16  9 16]\n",
      " [11 12 11 10]]\n",
      "\n",
      " [26 28 49 44]\n",
      "\n",
      " [38 46 32 31]\n"
     ]
    }
   ],
   "source": [
    "arr5 = np.random.randint(1,17, (4,4))\n",
    "\n",
    "print(arr5)\n",
    "\n",
    "row_sum = np.sum(arr5, axis=1)\n",
    "col_sum = np.sum(arr5, axis=0)\n",
    "\n",
    "print(\"\\n\",row_sum)\n",
    "print(\"\\n\",col_sum)"
   ]
  },
  {
   "cell_type": "markdown",
   "metadata": {},
   "source": [
    "Create a NumPy array of shape (5, 5) filled with random integers. Compute the mean, median, standard deviation, and variance of the array."
   ]
  },
  {
   "cell_type": "code",
   "execution_count": 24,
   "metadata": {},
   "outputs": [
    {
     "name": "stdout",
     "output_type": "stream",
     "text": [
      "[[12  7  7 12 10]\n",
      " [ 5 11  8  7  6]\n",
      " [11 12  7  8  6]\n",
      " [ 3 10 11  2  5]\n",
      " [ 5  5  9  2  5]]\n",
      "\n",
      " 7.44\n",
      "\n",
      " 7.0\n",
      "\n",
      " 3.034205002962061\n",
      "\n",
      " 9.2064\n"
     ]
    }
   ],
   "source": [
    "arr6 = np.random.randint(1,14, (5,5))\n",
    "print(arr6)\n",
    "\n",
    "mean = np.mean(arr6)\n",
    "median = np.median(arr6)\n",
    "standard_deviation = np.std(arr6)\n",
    "variance = np.var(arr6)\n",
    "\n",
    "print(\"\\n\", mean)\n",
    "print(\"\\n\", median)\n",
    "print(\"\\n\", standard_deviation)\n",
    "print(\"\\n\", variance)"
   ]
  },
  {
   "cell_type": "markdown",
   "metadata": {},
   "source": [
    "Create a NumPy array of shape (3, 3) with values from 1 to 9. Normalize the array (i.e., scale the values to have a mean of 0 and a standard deviation of 1)."
   ]
  },
  {
   "cell_type": "code",
   "execution_count": null,
   "metadata": {},
   "outputs": [
    {
     "name": "stdout",
     "output_type": "stream",
     "text": [
      "[[-1.02247472 -1.82267232  0.97801929]\n",
      " [ 0.17782169  0.17782169  0.57792049]\n",
      " [-1.02247472  1.3781181   0.57792049]]\n"
     ]
    }
   ],
   "source": [
    "arr7 = np.random.randint(1,10, (3,3))\n",
    "\n",
    "\n",
    "mean = np.mean(arr7)\n",
    "standard_deviation = np.std(arr7)\n",
    "\n",
    "# Normalize the array: (X - mean) / std_dev\n",
    "\n",
    "Normalize = (arr7 - mean)/standard_deviation\n",
    "\n",
    "print(Normalize)"
   ]
  },
  {
   "cell_type": "markdown",
   "metadata": {},
   "source": [
    "Create a NumPy array of shape (3, 3) filled with random integers. Add a 1D array of shape (3,) to each row of the 2D array using broadcasting."
   ]
  },
  {
   "cell_type": "markdown",
   "metadata": {},
   "source": [
    "Broadcasting is a powerful feature in NumPy that allows operations between arrays of different shapes without explicitly reshaping them. Instead of manually repeating elements to match the shape, NumPy automatically expands the smaller array to make the operation possible.\n",
    "\n"
   ]
  },
  {
   "cell_type": "code",
   "execution_count": 30,
   "metadata": {},
   "outputs": [
    {
     "name": "stdout",
     "output_type": "stream",
     "text": [
      "[[11  6 12]\n",
      " [ 5  4  6]\n",
      " [11  7  4]]\n",
      "\n",
      " [9 1 8]\n",
      "\n",
      " [[20  7 20]\n",
      " [14  5 14]\n",
      " [20  8 12]]\n"
     ]
    }
   ],
   "source": [
    "arr8 = np.random.randint(1,13, (3,3))\n",
    "arr8_1 = np.random.randint(1,13, (3,))\n",
    "\n",
    "print(arr8)\n",
    "print(\"\\n\", arr8_1)\n",
    "\n",
    "arr8_new = arr8 + arr8_1\n",
    "\n",
    "print(\"\\n\", arr8_new)"
   ]
  },
  {
   "cell_type": "markdown",
   "metadata": {},
   "source": [
    "Create a NumPy array of shape (4, 4) filled with random integers. Subtract a 1D array of shape (4,) from each column of the 2D array using broadcasting."
   ]
  },
  {
   "cell_type": "code",
   "execution_count": 31,
   "metadata": {},
   "outputs": [
    {
     "name": "stdout",
     "output_type": "stream",
     "text": [
      "[[-2 -3  4  7]\n",
      " [-2 -4  6  2]\n",
      " [-6  3  0  7]\n",
      " [-2 -3  7  1]]\n"
     ]
    }
   ],
   "source": [
    "arr9 = np.random.randint(1,11, (4,4))\n",
    "arr9_1 = np.random.randint(1,11, (4,))\n",
    "\n",
    "arr9_new = arr9 - arr9_1\n",
    "\n",
    "print(arr9_new)"
   ]
  },
  {
   "cell_type": "markdown",
   "metadata": {},
   "source": [
    "Create a NumPy array of shape (3, 3) representing a matrix. Compute its determinant, inverse, and eigenvalues."
   ]
  },
  {
   "cell_type": "code",
   "execution_count": 32,
   "metadata": {},
   "outputs": [
    {
     "name": "stdout",
     "output_type": "stream",
     "text": [
      "-131.99999999999997\n",
      "\n",
      " [[ 0.27272727 -0.03030303 -0.01515152]\n",
      " [-0.04545455 -0.10606061  0.1969697 ]\n",
      " [-0.04545455  0.22727273 -0.13636364]]\n",
      "\n",
      " [ 3.52786405 12.47213595 -3.        ]\n"
     ]
    }
   ],
   "source": [
    "arr10 = np.random.randint(1,11, (3,3))\n",
    "\n",
    "determinant = np.linalg.det(arr10)\n",
    "inverse = np.linalg.inv(arr10)\n",
    "eigenvalues = np.linalg.eigvals(arr10)\n",
    "\n",
    "print(determinant)\n",
    "print(\"\\n\", inverse)\n",
    "print(\"\\n\", eigenvalues)\n",
    "\n"
   ]
  },
  {
   "cell_type": "markdown",
   "metadata": {},
   "source": [
    "Create two NumPy arrays of shape (2, 3) and (3, 2). Perform matrix multiplication on these arrays."
   ]
  },
  {
   "cell_type": "code",
   "execution_count": 34,
   "metadata": {},
   "outputs": [
    {
     "name": "stdout",
     "output_type": "stream",
     "text": [
      "[[116  69]\n",
      " [ 88  42]]\n"
     ]
    }
   ],
   "source": [
    "arr11 = np.random.randint(1,11, (2,3))\n",
    "arr11_1 = np.random.randint(1,11, (3,2))\n",
    "\n",
    "arr11_new = np.linalg.multi_dot([arr11, arr11_1])\n",
    "\n",
    "print(arr11_new)"
   ]
  },
  {
   "cell_type": "markdown",
   "metadata": {},
   "source": [
    "Create a NumPy array of shape (3, 3) with values from 1 to 9. Reshape the array to shape (1, 9) and then to shape (9, 1)."
   ]
  },
  {
   "cell_type": "code",
   "execution_count": 38,
   "metadata": {},
   "outputs": [
    {
     "name": "stdout",
     "output_type": "stream",
     "text": [
      "[[7 2 1 5 1 3 2 2 3]]\n",
      "\n",
      " [[7]\n",
      " [2]\n",
      " [1]\n",
      " [5]\n",
      " [1]\n",
      " [3]\n",
      " [2]\n",
      " [2]\n",
      " [3]]\n"
     ]
    }
   ],
   "source": [
    "arr12 = np.random.randint(1,9, (3,3)).reshape(1,9)\n",
    "\n",
    "print(arr12)\n",
    "\n",
    "arr12_new = arr12.reshape(9,1)\n",
    "\n",
    "print(\"\\n\", arr12_new)"
   ]
  },
  {
   "cell_type": "markdown",
   "metadata": {},
   "source": [
    "Create a NumPy array of shape (5, 5) filled with random integers. Flatten the array and then reshape it back to (5, 5)."
   ]
  },
  {
   "cell_type": "code",
   "execution_count": 45,
   "metadata": {},
   "outputs": [
    {
     "name": "stdout",
     "output_type": "stream",
     "text": [
      "[5 2 2 1 3 5 2 4 4 2 3 3 1 5 2 5 2 4 3 1 4 2 5 5 3]\n",
      "\n",
      " [[5 2 2 1 3]\n",
      " [5 2 4 4 2]\n",
      " [3 3 1 5 2]\n",
      " [5 2 4 3 1]\n",
      " [4 2 5 5 3]]\n"
     ]
    }
   ],
   "source": [
    "arr13 = np.random.randint(1,6, (5,5))\n",
    "\n",
    "flatten = arr13.flatten()\n",
    "\n",
    "print(flatten)\n",
    "print(\"\\n\", arr13.reshape(5,5))"
   ]
  },
  {
   "cell_type": "markdown",
   "metadata": {},
   "source": [
    "Create a NumPy array of shape (5, 5) filled with random integers. Use fancy indexing to extract the elements at the corners of the array."
   ]
  },
  {
   "cell_type": "code",
   "execution_count": 8,
   "metadata": {},
   "outputs": [
    {
     "name": "stdout",
     "output_type": "stream",
     "text": [
      "[[ 4  9 10  1  7]\n",
      " [10  7  3 10  4]\n",
      " [ 8  4  8  4  9]\n",
      " [ 9 10  5  1  9]\n",
      " [ 8  5  7  1  9]]\n",
      "\n",
      " [4 7 8 9]\n"
     ]
    }
   ],
   "source": [
    "arr14 =  np.random.randint(1,11, (5,5))\n",
    "print(arr14)\n",
    "\n",
    "arr14_new = arr14[[0,0,4,4],[0,4,0,4]]\n",
    "\n",
    "print(\"\\n\", arr14_new)\n"
   ]
  },
  {
   "cell_type": "code",
   "execution_count": 6,
   "metadata": {},
   "outputs": [
    {
     "name": "stdout",
     "output_type": "stream",
     "text": [
      "[[1 2 3]\n",
      " [7 8 9]]\n"
     ]
    }
   ],
   "source": [
    "matrix = np.array([[1, 2, 3], \n",
    "                   [4, 5, 6], \n",
    "                   [7, 8, 9]])\n",
    "\n",
    "# Select rows at indices 0 and 2\n",
    "result = matrix[[0, 2]]\n",
    "\n",
    "print(result)"
   ]
  },
  {
   "cell_type": "markdown",
   "metadata": {},
   "source": [
    "Create a NumPy array of shape (4, 4) filled with random integers. Use boolean indexing to set all elements greater than 10 to 10."
   ]
  },
  {
   "cell_type": "code",
   "execution_count": 10,
   "metadata": {},
   "outputs": [
    {
     "name": "stdout",
     "output_type": "stream",
     "text": [
      "[[ 2 11 10  9]\n",
      " [ 9  3  6  5]\n",
      " [ 6  1  2  6]\n",
      " [ 1 10  2  2]]\n",
      "\n",
      " [11]\n"
     ]
    }
   ],
   "source": [
    "arr15 = np.random.randint(1,13, (4,4))\n",
    "print(arr15)\n",
    "\n",
    "condition = arr15 > 10\n",
    "\n",
    "kya_baat_hai = arr15[condition]\n",
    "\n",
    "print(\"\\n\", kya_baat_hai)"
   ]
  },
  {
   "cell_type": "markdown",
   "metadata": {},
   "source": [
    "Create a structured array with fields 'name' (string), 'age' (integer), and 'weight' (float). Add some data and sort the array by age."
   ]
  },
  {
   "cell_type": "code",
   "execution_count": 18,
   "metadata": {},
   "outputs": [
    {
     "name": "stdout",
     "output_type": "stream",
     "text": [
      "Original Data:\n",
      "[('Alice', 25, 55.5) ('Bob', 30, 70.2) ('Charlie', 22, 68. )\n",
      " ('David', 28, 72.1)]\n",
      "\n",
      "Sorted by Age:\n",
      "[('Charlie', 22, 68. ) ('Alice', 25, 55.5) ('David', 28, 72.1)\n",
      " ('Bob', 30, 70.2)]\n"
     ]
    }
   ],
   "source": [
    "person_dtype = np.dtype([\n",
    "    ('name', 'U10'),   # Unicode string of max length 10\n",
    "    ('age', 'i4'),     # 32-bit integer\n",
    "    ('weight', 'f4')   # 32-bit float\n",
    "])\n",
    "\n",
    "# Create a structured array with some data\n",
    "people = np.array([\n",
    "    ('Alice', 25, 55.5),\n",
    "    ('Bob', 30, 70.2),\n",
    "    ('Charlie', 22, 68.0),\n",
    "    ('David', 28, 72.1)\n",
    "], dtype=person_dtype)\n",
    "\n",
    "# Sort the array by the 'age' field\n",
    "sorted_people = np.sort(people, order='age')\n",
    "\n",
    "# Print results\n",
    "print(\"Original Data:\")\n",
    "print(people)\n",
    "\n",
    "print(\"\\nSorted by Age:\")\n",
    "print(sorted_people)"
   ]
  },
  {
   "cell_type": "markdown",
   "metadata": {},
   "source": [
    "Create a structured array with fields 'x' and 'y' (both integers). Add some data and compute the Euclidean distance between each pair of points."
   ]
  },
  {
   "cell_type": "markdown",
   "metadata": {},
   "source": [
    "Euclidean Distance is the straight-line distance between two points in space — like using a ruler to measure the shortest distance between two locations."
   ]
  },
  {
   "cell_type": "code",
   "execution_count": 25,
   "metadata": {},
   "outputs": [
    {
     "name": "stdout",
     "output_type": "stream",
     "text": [
      "[(23, 34) (34, 45) (45, 67)]\n",
      "\n",
      " [41.0487515  56.40035461 80.7093551 ]\n"
     ]
    }
   ],
   "source": [
    "arr_data = np.dtype([\n",
    "    ('X', 'int'),\n",
    "    ('Y', 'int')\n",
    "])\n",
    "\n",
    "added_data = np.array([\n",
    "    (23,34),\n",
    "    (34,45),\n",
    "    (45,67)\n",
    "], dtype=arr_data)\n",
    "\n",
    "print(added_data)\n",
    "\n",
    "distance = np.sqrt(added_data['X']**2 + added_data['Y']**2)\n",
    "\n",
    "print(\"\\n\", distance)"
   ]
  },
  {
   "cell_type": "markdown",
   "metadata": {},
   "source": [
    "Create a masked array of shape (4, 4) with random integers and mask the elements greater than 10. Compute the sum of the unmasked elements."
   ]
  },
  {
   "cell_type": "code",
   "execution_count": 36,
   "metadata": {},
   "outputs": [
    {
     "name": "stdout",
     "output_type": "stream",
     "text": [
      "[[ 7 11  2 12]\n",
      " [14 12 16 14]\n",
      " [12 18 17 16]\n",
      " [ 5  7 16  3]]\n",
      "\n",
      " [[7 -- 2 --]\n",
      " [-- -- -- --]\n",
      " [-- -- -- --]\n",
      " [5 7 -- 3]]\n",
      "\n",
      " 24\n"
     ]
    }
   ],
   "source": [
    "arr16 = np.random.randint(1,20, (4,4))\n",
    "print(arr16)\n",
    "\n",
    "masked_arr16 = np.ma.masked_where(arr16 > 10, arr16)\n",
    "print(\"\\n\",masked_arr16)\n",
    "\n",
    "sum_unmasked = masked_arr16.sum()\n",
    "print(\"\\n\", sum_unmasked)\n"
   ]
  },
  {
   "cell_type": "markdown",
   "metadata": {},
   "source": [
    "Create a masked array of shape (3, 3) with random integers and mask the diagonal elements. Replace the masked elements with the mean of the unmasked elements."
   ]
  },
  {
   "cell_type": "code",
   "execution_count": 38,
   "metadata": {},
   "outputs": [
    {
     "name": "stdout",
     "output_type": "stream",
     "text": [
      "Original Array:\n",
      "[[13 10  2]\n",
      " [17 17 11]\n",
      " [18  6 18]]\n",
      "\n",
      "Masked Array (diagonal elements masked):\n",
      "[[-- 10 2]\n",
      " [17 -- 11]\n",
      " [18 6 --]]\n",
      "\n",
      "Mean of unmasked elements: 10.666666666666666\n",
      "\n",
      "Final Array (masked values replaced with mean):\n",
      "[[10 10  2]\n",
      " [17 10 11]\n",
      " [18  6 10]]\n"
     ]
    }
   ],
   "source": [
    "\n",
    "\n",
    "# Step 1: Create a 3x3 array with random integers\n",
    "arr = np.random.randint(1, 21, (3, 3))\n",
    "print(\"Original Array:\")\n",
    "print(arr)\n",
    "\n",
    "# Step 2: Create a mask for diagonal elements\n",
    "mask = np.eye(3, dtype=bool)\n",
    "\n",
    "# Step 3: Create the masked array\n",
    "masked_arr = np.ma.array(arr, mask=mask)\n",
    "print(\"\\nMasked Array (diagonal elements masked):\")\n",
    "print(masked_arr)\n",
    "\n",
    "# Step 4: Compute mean of unmasked elements\n",
    "mean_unmasked = masked_arr.mean()\n",
    "print(\"\\nMean of unmasked elements:\", mean_unmasked)\n",
    "\n",
    "# Step 5: Replace masked (diagonal) elements with the mean\n",
    "filled_arr = masked_arr.filled(mean_unmasked)\n",
    "print(\"\\nFinal Array (masked values replaced with mean):\")\n",
    "print(filled_arr)\n"
   ]
  },
  {
   "cell_type": "code",
   "execution_count": null,
   "metadata": {},
   "outputs": [],
   "source": []
  }
 ],
 "metadata": {
  "kernelspec": {
   "display_name": "base",
   "language": "python",
   "name": "python3"
  },
  "language_info": {
   "codemirror_mode": {
    "name": "ipython",
    "version": 3
   },
   "file_extension": ".py",
   "mimetype": "text/x-python",
   "name": "python",
   "nbconvert_exporter": "python",
   "pygments_lexer": "ipython3",
   "version": "3.12.7"
  }
 },
 "nbformat": 4,
 "nbformat_minor": 2
}

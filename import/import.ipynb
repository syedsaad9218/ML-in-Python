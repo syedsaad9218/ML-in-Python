{
 "cells": [
  {
   "cell_type": "markdown",
   "id": "1a20e04c",
   "metadata": {},
   "source": [
    "Import the `math` module and use it to calculate the square root of 25 and the sine of 90 degrees."
   ]
  },
  {
   "cell_type": "code",
   "execution_count": 1,
   "id": "8d0e6e95",
   "metadata": {},
   "outputs": [
    {
     "name": "stdout",
     "output_type": "stream",
     "text": [
      "5.0\n",
      "0.8939966636005579\n"
     ]
    }
   ],
   "source": [
    "import math\n",
    "\n",
    "square_root = math.sqrt(25)\n",
    "sine = math.sin(90)\n",
    "print(square_root)\n",
    "print(sine)"
   ]
  },
  {
   "cell_type": "markdown",
   "id": "ffc9bfaa",
   "metadata": {},
   "source": [
    "Import the `datetime` module with an alias and use it to print the current date and time"
   ]
  },
  {
   "cell_type": "code",
   "execution_count": 2,
   "id": "95b46e62",
   "metadata": {},
   "outputs": [
    {
     "name": "stdout",
     "output_type": "stream",
     "text": [
      "Current Date and Time: 2025-04-15 16:59:59.653417\n"
     ]
    }
   ],
   "source": [
    "import datetime as dt\n",
    "\n",
    "current_time = dt.datetime.now()\n",
    "print(\"Current Date and Time:\", current_time)"
   ]
  },
  {
   "cell_type": "markdown",
   "id": "8eace64c",
   "metadata": {},
   "source": [
    "Import the `randint` function from the `random` module and use it to generate a random integer between 1 and 100."
   ]
  },
  {
   "cell_type": "code",
   "execution_count": 3,
   "id": "9ccd863c",
   "metadata": {},
   "outputs": [
    {
     "name": "stdout",
     "output_type": "stream",
     "text": [
      "13\n"
     ]
    }
   ],
   "source": [
    "import random as rd\n",
    "nums = rd.randint(1, 100)\n",
    "print(nums)"
   ]
  },
  {
   "cell_type": "markdown",
   "id": "8a42adc9",
   "metadata": {},
   "source": [
    "Import the `sqrt` and `pow` functions from the `math` module and use them to calculate the square root of 16 and 2 raised to the power of 3."
   ]
  },
  {
   "cell_type": "code",
   "execution_count": 4,
   "id": "b403a3d2",
   "metadata": {},
   "outputs": [
    {
     "name": "stdout",
     "output_type": "stream",
     "text": [
      "4.0\n",
      "8.0\n"
     ]
    }
   ],
   "source": [
    "import math \n",
    "square_root = math.sqrt(16)\n",
    "power = math.pow(2,3)\n",
    "print(square_root)\n",
    "print(power)"
   ]
  },
  {
   "cell_type": "markdown",
   "id": "cc649c1d",
   "metadata": {},
   "source": [
    "Write code that attempts to import a non-existent module and gracefully handles the import error by printing an error message."
   ]
  },
  {
   "cell_type": "code",
   "execution_count": 5,
   "id": "6f7de1b4",
   "metadata": {},
   "outputs": [
    {
     "name": "stdout",
     "output_type": "stream",
     "text": [
      "Error: The module you are trying to import does not exist.\n"
     ]
    }
   ],
   "source": [
    "try:\n",
    "    import nonexistent_module  \n",
    "except ModuleNotFoundError:\n",
    "    print(\"Error: The module you are trying to import does not exist.\")"
   ]
  },
  {
   "cell_type": "code",
   "execution_count": 6,
   "id": "c959edd7",
   "metadata": {},
   "outputs": [
    {
     "name": "stdout",
     "output_type": "stream",
     "text": [
      "c:\\Users\\HP\\OneDrive\\Desktop\\Ml-in-Python\\import\n"
     ]
    }
   ],
   "source": [
    "import os \n",
    "print(os.getcwd())"
   ]
  },
  {
   "cell_type": "code",
   "execution_count": null,
   "id": "472dbcbb",
   "metadata": {},
   "outputs": [],
   "source": []
  }
 ],
 "metadata": {
  "kernelspec": {
   "display_name": "base",
   "language": "python",
   "name": "python3"
  },
  "language_info": {
   "codemirror_mode": {
    "name": "ipython",
    "version": 3
   },
   "file_extension": ".py",
   "mimetype": "text/x-python",
   "name": "python",
   "nbconvert_exporter": "python",
   "pygments_lexer": "ipython3",
   "version": "3.12.7"
  }
 },
 "nbformat": 4,
 "nbformat_minor": 5
}
